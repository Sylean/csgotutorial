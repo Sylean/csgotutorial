{
 "cells": [
  {
   "cell_type": "markdown",
   "metadata": {},
   "source": [
    "<img src=\"https://steamcdn-a.akamaihd.net/apps/csgo/blog/images/wallpaper_nologo.jpg\"/>\n",
    "\n",
    "<center> <h1> Smart, not fair: An analysis of CS:GO metagame tactics </h1> </center>\n",
    "\n",
    "<center> <h3> Anson Chen </h3> </center>\n",
    "\n",
    "## Introduction:\n",
    "\n",
    "One of the most popular genres in video games is the first person shooter (or FPS), in which players fight in first person by shooting other players. A common component to winning in these games is \"mechanical skill\", or the ability for a player to aim their crosshairs at enemy players with their mouse and hit them. One common belief that is held in the FPS community is that players with better mechanical skill are better players in general. That is, a player's skill level should be measured by their \"mechanical skill\" in games.  \n",
    "\n",
    "To a point, this is a reasonable metric for player skill. To win most FPS games, you need to eliminate enemy players. Players with higher mechanical skill tend to hit more enemies, which naturally correlates with enemy eliminations. Thus you would assume that players with higher mechanical skill should win more.  \n",
    "\n",
    "On the flip side of this coin, many of those same players who believe that mechanical skill is the most important metric for player skill also believe that winning for any other reason could be considered \"unfair\"; that players who have lower mechanical skill should not be able to beat players with higher mechanical skill unless they use \"cheap\" tactics.\n",
    "\n",
    "These tactics are generally referred to the metagame, which are generally specific to each game. For example, we'll take CS:GO (Counter-Strike: Global Offensive), the subject of this tutorial. CS:GO is a 5 vs 5 team-based tactical shooter, in which players take turns playing as the Terrorists (T) side and the Counter-Terrorists (CT) side. Terrorists need to take a C4 charge from their spawn and plant them on marked bomb sites on the map. If the C4 explodes, then the Terrorists win. Counter-Terrorists need to protect these bomb sites and keep the Terrorists from exploding them. Counter-Terrorists can win by either letting time run out without the terrorists planting the bomb or defuse the bomb after it is planted. For both sides, eliminating all enemy players will also win the game.\n",
    "\n",
    "In this tutorial, we will look at trying to predict how factors might help players gain a competitive edge and win rounds. This will be done by processing the data into a usable form, looking at trends in the data, and then finally building classification models to try and predict wins. Using our model, we will find that maybe those \"unfair\" factors aren't actually so unfair after all. \n",
    "\n",
    "# Libraries used\n",
    "\n",
    "- *Pandas* for storing data : https://pandas.pydata.org/\n",
    "- *NumPy* for efficiently manipulating data : https://numpy.org/\n",
    "- *Scikit-Learn* for classification models : https://scikit-learn.org/stable/index.html\n",
    "- *SciPy* for statistics libraries : https://www.scipy.org/"
   ]
  },
  {
   "cell_type": "code",
   "execution_count": 579,
   "metadata": {},
   "outputs": [],
   "source": [
    "import pandas as pd\n",
    "import matplotlib.pyplot as plt\n",
    "import numpy as np\n",
    "import seaborn as sns\n",
    "from sklearn.linear_model import LogisticRegression\n",
    "from sklearn.model_selection import KFold\n",
    "from sklearn.metrics import mean_squared_error\n",
    "from sklearn.tree import DecisionTreeClassifier\n",
    "from sklearn.dummy import DummyClassifier\n",
    "from sklearn.model_selection import train_test_split\n",
    "from scipy import stats\n",
    "\n",
    "from collections import Counter\n",
    "from functools import reduce"
   ]
  },
  {
   "cell_type": "markdown",
   "metadata": {},
   "source": [
    "# 1. Data Preparation\n",
    "\n",
    "Before we can do any analysis or exploration, we'll need to first find data that we can work with, and then process it in a way so that we can use it. The data that we'll be working with here is from Kaggle, a popular site to find datasets to use.\n",
    "\n",
    "The link to the source of the data we'll be using can be found at https://www.kaggle.com/skihikingkevin/csgo-matchmaking-damage.\n",
    "\n",
    "In this dataset, since it is all scraped data, we won't have many data quality issues, however we will have to deal with significant linking of data. One thing to note here is that every entry in our dataset represents a different incident that a player dealt/received damage. This is a long way away from us looking at individual round wins, so we'll have to put work into to aggregate rows so that we can look at our data on a per-round basis."
   ]
  },
  {
   "cell_type": "markdown",
   "metadata": {},
   "source": [
    "## 1.1 Importing Data\n",
    "\n",
    "Taking the .csv files we downloaded from the Kaggle link, we're going to load them into Pandas so that we can manipulate them, and then show a couple rows of our new data gold so that we can get an idea of what we're working with."
   ]
  },
  {
   "cell_type": "code",
   "execution_count": 523,
   "metadata": {},
   "outputs": [
    {
     "data": {
      "text/html": [
       "<div>\n",
       "<style scoped>\n",
       "    .dataframe tbody tr th:only-of-type {\n",
       "        vertical-align: middle;\n",
       "    }\n",
       "\n",
       "    .dataframe tbody tr th {\n",
       "        vertical-align: top;\n",
       "    }\n",
       "\n",
       "    .dataframe thead th {\n",
       "        text-align: right;\n",
       "    }\n",
       "</style>\n",
       "<table border=\"1\" class=\"dataframe\">\n",
       "  <thead>\n",
       "    <tr style=\"text-align: right;\">\n",
       "      <th></th>\n",
       "      <th>Unnamed: 0</th>\n",
       "      <th>file</th>\n",
       "      <th>map</th>\n",
       "      <th>date</th>\n",
       "      <th>round</th>\n",
       "      <th>tick</th>\n",
       "      <th>seconds</th>\n",
       "      <th>att_team</th>\n",
       "      <th>vic_team</th>\n",
       "      <th>att_side</th>\n",
       "      <th>...</th>\n",
       "      <th>vic_id</th>\n",
       "      <th>vic_rank</th>\n",
       "      <th>att_pos_x</th>\n",
       "      <th>att_pos_y</th>\n",
       "      <th>vic_pos_x</th>\n",
       "      <th>vic_pos_y</th>\n",
       "      <th>round_type</th>\n",
       "      <th>ct_eq_val</th>\n",
       "      <th>t_eq_val</th>\n",
       "      <th>avg_match_rank</th>\n",
       "    </tr>\n",
       "  </thead>\n",
       "  <tbody>\n",
       "    <tr>\n",
       "      <th>0</th>\n",
       "      <td>0</td>\n",
       "      <td>003201673717864202280_0171883906.dem</td>\n",
       "      <td>de_dust2</td>\n",
       "      <td>09/28/2017 8:44:22 PM</td>\n",
       "      <td>1</td>\n",
       "      <td>8482</td>\n",
       "      <td>133.0582</td>\n",
       "      <td>Team 1</td>\n",
       "      <td>Team 2</td>\n",
       "      <td>CounterTerrorist</td>\n",
       "      <td>...</td>\n",
       "      <td>76561198123082770</td>\n",
       "      <td>17</td>\n",
       "      <td>1473.847</td>\n",
       "      <td>1351.358</td>\n",
       "      <td>662.170</td>\n",
       "      <td>772.748</td>\n",
       "      <td>PISTOL_ROUND</td>\n",
       "      <td>2950</td>\n",
       "      <td>3850</td>\n",
       "      <td>16.0</td>\n",
       "    </tr>\n",
       "    <tr>\n",
       "      <th>1</th>\n",
       "      <td>1</td>\n",
       "      <td>003201673717864202280_0171883906.dem</td>\n",
       "      <td>de_dust2</td>\n",
       "      <td>09/28/2017 8:44:22 PM</td>\n",
       "      <td>1</td>\n",
       "      <td>8600</td>\n",
       "      <td>134.9023</td>\n",
       "      <td>Team 1</td>\n",
       "      <td>Team 2</td>\n",
       "      <td>CounterTerrorist</td>\n",
       "      <td>...</td>\n",
       "      <td>76561198051040004</td>\n",
       "      <td>17</td>\n",
       "      <td>-1211.723</td>\n",
       "      <td>1060.813</td>\n",
       "      <td>-1184.006</td>\n",
       "      <td>1153.343</td>\n",
       "      <td>PISTOL_ROUND</td>\n",
       "      <td>2950</td>\n",
       "      <td>3850</td>\n",
       "      <td>16.0</td>\n",
       "    </tr>\n",
       "    <tr>\n",
       "      <th>2</th>\n",
       "      <td>2</td>\n",
       "      <td>003201673717864202280_0171883906.dem</td>\n",
       "      <td>de_dust2</td>\n",
       "      <td>09/28/2017 8:44:22 PM</td>\n",
       "      <td>1</td>\n",
       "      <td>8610</td>\n",
       "      <td>135.0586</td>\n",
       "      <td>Team 2</td>\n",
       "      <td>Team 1</td>\n",
       "      <td>Terrorist</td>\n",
       "      <td>...</td>\n",
       "      <td>76561198223006752</td>\n",
       "      <td>16</td>\n",
       "      <td>-1153.584</td>\n",
       "      <td>1163.131</td>\n",
       "      <td>-1198.015</td>\n",
       "      <td>1050.423</td>\n",
       "      <td>PISTOL_ROUND</td>\n",
       "      <td>2950</td>\n",
       "      <td>3850</td>\n",
       "      <td>16.0</td>\n",
       "    </tr>\n",
       "    <tr>\n",
       "      <th>3</th>\n",
       "      <td>3</td>\n",
       "      <td>003201673717864202280_0171883906.dem</td>\n",
       "      <td>de_dust2</td>\n",
       "      <td>09/28/2017 8:44:22 PM</td>\n",
       "      <td>1</td>\n",
       "      <td>8624</td>\n",
       "      <td>135.2774</td>\n",
       "      <td>Team 1</td>\n",
       "      <td>Team 2</td>\n",
       "      <td>CounterTerrorist</td>\n",
       "      <td>...</td>\n",
       "      <td>76561198051040004</td>\n",
       "      <td>17</td>\n",
       "      <td>-1173.053</td>\n",
       "      <td>1044.365</td>\n",
       "      <td>-1141.785</td>\n",
       "      <td>1190.089</td>\n",
       "      <td>PISTOL_ROUND</td>\n",
       "      <td>2950</td>\n",
       "      <td>3850</td>\n",
       "      <td>16.0</td>\n",
       "    </tr>\n",
       "    <tr>\n",
       "      <th>4</th>\n",
       "      <td>4</td>\n",
       "      <td>003201673717864202280_0171883906.dem</td>\n",
       "      <td>de_dust2</td>\n",
       "      <td>09/28/2017 8:44:22 PM</td>\n",
       "      <td>1</td>\n",
       "      <td>8632</td>\n",
       "      <td>135.4024</td>\n",
       "      <td>Team 2</td>\n",
       "      <td>Team 1</td>\n",
       "      <td>Terrorist</td>\n",
       "      <td>...</td>\n",
       "      <td>76561198223006752</td>\n",
       "      <td>16</td>\n",
       "      <td>-1142.522</td>\n",
       "      <td>1200.967</td>\n",
       "      <td>-1157.690</td>\n",
       "      <td>1050.702</td>\n",
       "      <td>PISTOL_ROUND</td>\n",
       "      <td>2950</td>\n",
       "      <td>3850</td>\n",
       "      <td>16.0</td>\n",
       "    </tr>\n",
       "  </tbody>\n",
       "</table>\n",
       "<p>5 rows × 33 columns</p>\n",
       "</div>"
      ],
      "text/plain": [
       "   Unnamed: 0                                  file       map  \\\n",
       "0           0  003201673717864202280_0171883906.dem  de_dust2   \n",
       "1           1  003201673717864202280_0171883906.dem  de_dust2   \n",
       "2           2  003201673717864202280_0171883906.dem  de_dust2   \n",
       "3           3  003201673717864202280_0171883906.dem  de_dust2   \n",
       "4           4  003201673717864202280_0171883906.dem  de_dust2   \n",
       "\n",
       "                    date  round  tick   seconds att_team vic_team  \\\n",
       "0  09/28/2017 8:44:22 PM      1  8482  133.0582   Team 1   Team 2   \n",
       "1  09/28/2017 8:44:22 PM      1  8600  134.9023   Team 1   Team 2   \n",
       "2  09/28/2017 8:44:22 PM      1  8610  135.0586   Team 2   Team 1   \n",
       "3  09/28/2017 8:44:22 PM      1  8624  135.2774   Team 1   Team 2   \n",
       "4  09/28/2017 8:44:22 PM      1  8632  135.4024   Team 2   Team 1   \n",
       "\n",
       "           att_side  ...             vic_id  vic_rank  att_pos_x  att_pos_y  \\\n",
       "0  CounterTerrorist  ...  76561198123082770        17   1473.847   1351.358   \n",
       "1  CounterTerrorist  ...  76561198051040004        17  -1211.723   1060.813   \n",
       "2         Terrorist  ...  76561198223006752        16  -1153.584   1163.131   \n",
       "3  CounterTerrorist  ...  76561198051040004        17  -1173.053   1044.365   \n",
       "4         Terrorist  ...  76561198223006752        16  -1142.522   1200.967   \n",
       "\n",
       "  vic_pos_x vic_pos_y    round_type ct_eq_val  t_eq_val avg_match_rank  \n",
       "0   662.170   772.748  PISTOL_ROUND      2950      3850           16.0  \n",
       "1 -1184.006  1153.343  PISTOL_ROUND      2950      3850           16.0  \n",
       "2 -1198.015  1050.423  PISTOL_ROUND      2950      3850           16.0  \n",
       "3 -1141.785  1190.089  PISTOL_ROUND      2950      3850           16.0  \n",
       "4 -1157.690  1050.702  PISTOL_ROUND      2950      3850           16.0  \n",
       "\n",
       "[5 rows x 33 columns]"
      ]
     },
     "metadata": {},
     "output_type": "display_data"
    },
    {
     "data": {
      "text/html": [
       "<div>\n",
       "<style scoped>\n",
       "    .dataframe tbody tr th:only-of-type {\n",
       "        vertical-align: middle;\n",
       "    }\n",
       "\n",
       "    .dataframe tbody tr th {\n",
       "        vertical-align: top;\n",
       "    }\n",
       "\n",
       "    .dataframe thead th {\n",
       "        text-align: right;\n",
       "    }\n",
       "</style>\n",
       "<table border=\"1\" class=\"dataframe\">\n",
       "  <thead>\n",
       "    <tr style=\"text-align: right;\">\n",
       "      <th></th>\n",
       "      <th>Unnamed: 0</th>\n",
       "      <th>file</th>\n",
       "      <th>map</th>\n",
       "      <th>round</th>\n",
       "      <th>start_seconds</th>\n",
       "      <th>seconds</th>\n",
       "      <th>end_seconds</th>\n",
       "      <th>att_team</th>\n",
       "      <th>vic_team</th>\n",
       "      <th>att_id</th>\n",
       "      <th>...</th>\n",
       "      <th>att_pos_x</th>\n",
       "      <th>att_pos_y</th>\n",
       "      <th>nade_land_x</th>\n",
       "      <th>nade_land_y</th>\n",
       "      <th>vic_pos_x</th>\n",
       "      <th>vic_pos_y</th>\n",
       "      <th>round_type</th>\n",
       "      <th>ct_eq_val</th>\n",
       "      <th>t_eq_val</th>\n",
       "      <th>avg_match_rank</th>\n",
       "    </tr>\n",
       "  </thead>\n",
       "  <tbody>\n",
       "    <tr>\n",
       "      <th>0</th>\n",
       "      <td>0</td>\n",
       "      <td>003201673717864202280_0171883906.dem</td>\n",
       "      <td>de_dust2</td>\n",
       "      <td>1</td>\n",
       "      <td>109.5534</td>\n",
       "      <td>125.1816</td>\n",
       "      <td>197.6025</td>\n",
       "      <td>Team 2</td>\n",
       "      <td>NaN</td>\n",
       "      <td>76561198244806730</td>\n",
       "      <td>...</td>\n",
       "      <td>-918.1018</td>\n",
       "      <td>-856.1255</td>\n",
       "      <td>257.32770</td>\n",
       "      <td>-435.8516</td>\n",
       "      <td>NaN</td>\n",
       "      <td>NaN</td>\n",
       "      <td>PISTOL_ROUND</td>\n",
       "      <td>2950</td>\n",
       "      <td>3850</td>\n",
       "      <td>16.0</td>\n",
       "    </tr>\n",
       "    <tr>\n",
       "      <th>1</th>\n",
       "      <td>1</td>\n",
       "      <td>003201673717864202280_0171883906.dem</td>\n",
       "      <td>de_dust2</td>\n",
       "      <td>1</td>\n",
       "      <td>109.5534</td>\n",
       "      <td>139.1844</td>\n",
       "      <td>197.6025</td>\n",
       "      <td>Team 2</td>\n",
       "      <td>NaN</td>\n",
       "      <td>76561198051040004</td>\n",
       "      <td>...</td>\n",
       "      <td>-1310.6070</td>\n",
       "      <td>1145.8650</td>\n",
       "      <td>-1124.67500</td>\n",
       "      <td>1216.9330</td>\n",
       "      <td>NaN</td>\n",
       "      <td>NaN</td>\n",
       "      <td>PISTOL_ROUND</td>\n",
       "      <td>2950</td>\n",
       "      <td>3850</td>\n",
       "      <td>16.0</td>\n",
       "    </tr>\n",
       "    <tr>\n",
       "      <th>2</th>\n",
       "      <td>2</td>\n",
       "      <td>003201673717864202280_0171883906.dem</td>\n",
       "      <td>de_dust2</td>\n",
       "      <td>1</td>\n",
       "      <td>109.5534</td>\n",
       "      <td>166.0649</td>\n",
       "      <td>197.6025</td>\n",
       "      <td>Team 2</td>\n",
       "      <td>Team 2</td>\n",
       "      <td>76561198147933469</td>\n",
       "      <td>...</td>\n",
       "      <td>-180.6393</td>\n",
       "      <td>327.6691</td>\n",
       "      <td>-89.53781</td>\n",
       "      <td>318.2151</td>\n",
       "      <td>-130.1585</td>\n",
       "      <td>304.0313</td>\n",
       "      <td>PISTOL_ROUND</td>\n",
       "      <td>2950</td>\n",
       "      <td>3850</td>\n",
       "      <td>16.0</td>\n",
       "    </tr>\n",
       "    <tr>\n",
       "      <th>3</th>\n",
       "      <td>3</td>\n",
       "      <td>003201673717864202280_0171883906.dem</td>\n",
       "      <td>de_dust2</td>\n",
       "      <td>2</td>\n",
       "      <td>197.6025</td>\n",
       "      <td>213.0431</td>\n",
       "      <td>281.2757</td>\n",
       "      <td>Team 1</td>\n",
       "      <td>NaN</td>\n",
       "      <td>76561198051106390</td>\n",
       "      <td>...</td>\n",
       "      <td>151.3117</td>\n",
       "      <td>2304.8010</td>\n",
       "      <td>-431.48370</td>\n",
       "      <td>2126.3900</td>\n",
       "      <td>NaN</td>\n",
       "      <td>NaN</td>\n",
       "      <td>ECO</td>\n",
       "      <td>12400</td>\n",
       "      <td>4700</td>\n",
       "      <td>16.0</td>\n",
       "    </tr>\n",
       "    <tr>\n",
       "      <th>4</th>\n",
       "      <td>4</td>\n",
       "      <td>003201673717864202280_0171883906.dem</td>\n",
       "      <td>de_dust2</td>\n",
       "      <td>2</td>\n",
       "      <td>197.6025</td>\n",
       "      <td>220.8572</td>\n",
       "      <td>281.2757</td>\n",
       "      <td>Team 1</td>\n",
       "      <td>NaN</td>\n",
       "      <td>76561198051106390</td>\n",
       "      <td>...</td>\n",
       "      <td>-1669.9540</td>\n",
       "      <td>2197.1340</td>\n",
       "      <td>-1955.98500</td>\n",
       "      <td>1384.2130</td>\n",
       "      <td>NaN</td>\n",
       "      <td>NaN</td>\n",
       "      <td>ECO</td>\n",
       "      <td>12400</td>\n",
       "      <td>4700</td>\n",
       "      <td>16.0</td>\n",
       "    </tr>\n",
       "  </tbody>\n",
       "</table>\n",
       "<p>5 rows × 33 columns</p>\n",
       "</div>"
      ],
      "text/plain": [
       "   Unnamed: 0                                  file       map  round  \\\n",
       "0           0  003201673717864202280_0171883906.dem  de_dust2      1   \n",
       "1           1  003201673717864202280_0171883906.dem  de_dust2      1   \n",
       "2           2  003201673717864202280_0171883906.dem  de_dust2      1   \n",
       "3           3  003201673717864202280_0171883906.dem  de_dust2      2   \n",
       "4           4  003201673717864202280_0171883906.dem  de_dust2      2   \n",
       "\n",
       "   start_seconds   seconds  end_seconds att_team vic_team             att_id  \\\n",
       "0       109.5534  125.1816     197.6025   Team 2      NaN  76561198244806730   \n",
       "1       109.5534  139.1844     197.6025   Team 2      NaN  76561198051040004   \n",
       "2       109.5534  166.0649     197.6025   Team 2   Team 2  76561198147933469   \n",
       "3       197.6025  213.0431     281.2757   Team 1      NaN  76561198051106390   \n",
       "4       197.6025  220.8572     281.2757   Team 1      NaN  76561198051106390   \n",
       "\n",
       "   ...  att_pos_x  att_pos_y nade_land_x  nade_land_y  vic_pos_x  vic_pos_y  \\\n",
       "0  ...  -918.1018  -856.1255   257.32770    -435.8516        NaN        NaN   \n",
       "1  ... -1310.6070  1145.8650 -1124.67500    1216.9330        NaN        NaN   \n",
       "2  ...  -180.6393   327.6691   -89.53781     318.2151  -130.1585   304.0313   \n",
       "3  ...   151.3117  2304.8010  -431.48370    2126.3900        NaN        NaN   \n",
       "4  ... -1669.9540  2197.1340 -1955.98500    1384.2130        NaN        NaN   \n",
       "\n",
       "     round_type ct_eq_val t_eq_val avg_match_rank  \n",
       "0  PISTOL_ROUND      2950     3850           16.0  \n",
       "1  PISTOL_ROUND      2950     3850           16.0  \n",
       "2  PISTOL_ROUND      2950     3850           16.0  \n",
       "3           ECO     12400     4700           16.0  \n",
       "4           ECO     12400     4700           16.0  \n",
       "\n",
       "[5 rows x 33 columns]"
      ]
     },
     "metadata": {},
     "output_type": "display_data"
    }
   ],
   "source": [
    "df = pd.read_csv('mm_master_demos.csv');\n",
    "df_nades = pd.read_csv('mm_grenades_demos.csv');\n",
    "display(df.head())\n",
    "display(df_nades.head())"
   ]
  },
  {
   "cell_type": "markdown",
   "metadata": {},
   "source": [
    "## 1.2 Organising our Data\n",
    "\n",
    "Now we need to massage our data into forms that will be easier to use when we start trying to build features to use later."
   ]
  },
  {
   "cell_type": "markdown",
   "metadata": {},
   "source": [
    "First of all we want to identify our data by the specific match they were played in, and the specific round of that match. Since each 'file' name is tied to a specific match, and the 'round' number is unique to the round it was played in, we will make a unique identifier here by combining the two so that we can link data together later. Ultimately, we want there to be only one entry corresponding to each round_id, which represents the specific round we want to look at."
   ]
  },
  {
   "cell_type": "code",
   "execution_count": 524,
   "metadata": {},
   "outputs": [
    {
     "data": {
      "text/html": [
       "<div>\n",
       "<style scoped>\n",
       "    .dataframe tbody tr th:only-of-type {\n",
       "        vertical-align: middle;\n",
       "    }\n",
       "\n",
       "    .dataframe tbody tr th {\n",
       "        vertical-align: top;\n",
       "    }\n",
       "\n",
       "    .dataframe thead th {\n",
       "        text-align: right;\n",
       "    }\n",
       "</style>\n",
       "<table border=\"1\" class=\"dataframe\">\n",
       "  <thead>\n",
       "    <tr style=\"text-align: right;\">\n",
       "      <th></th>\n",
       "      <th>Unnamed: 0</th>\n",
       "      <th>file</th>\n",
       "      <th>map</th>\n",
       "      <th>date</th>\n",
       "      <th>round</th>\n",
       "      <th>tick</th>\n",
       "      <th>seconds</th>\n",
       "      <th>att_team</th>\n",
       "      <th>vic_team</th>\n",
       "      <th>att_side</th>\n",
       "      <th>...</th>\n",
       "      <th>vic_id</th>\n",
       "      <th>vic_rank</th>\n",
       "      <th>att_pos_x</th>\n",
       "      <th>att_pos_y</th>\n",
       "      <th>vic_pos_x</th>\n",
       "      <th>vic_pos_y</th>\n",
       "      <th>round_type</th>\n",
       "      <th>ct_eq_val</th>\n",
       "      <th>t_eq_val</th>\n",
       "      <th>avg_match_rank</th>\n",
       "    </tr>\n",
       "    <tr>\n",
       "      <th>round_id</th>\n",
       "      <th></th>\n",
       "      <th></th>\n",
       "      <th></th>\n",
       "      <th></th>\n",
       "      <th></th>\n",
       "      <th></th>\n",
       "      <th></th>\n",
       "      <th></th>\n",
       "      <th></th>\n",
       "      <th></th>\n",
       "      <th></th>\n",
       "      <th></th>\n",
       "      <th></th>\n",
       "      <th></th>\n",
       "      <th></th>\n",
       "      <th></th>\n",
       "      <th></th>\n",
       "      <th></th>\n",
       "      <th></th>\n",
       "      <th></th>\n",
       "      <th></th>\n",
       "    </tr>\n",
       "  </thead>\n",
       "  <tbody>\n",
       "    <tr>\n",
       "      <th>003201673717864202280_0171883906.dem 1</th>\n",
       "      <td>0</td>\n",
       "      <td>003201673717864202280_0171883906.dem</td>\n",
       "      <td>de_dust2</td>\n",
       "      <td>09/28/2017 8:44:22 PM</td>\n",
       "      <td>1</td>\n",
       "      <td>8482</td>\n",
       "      <td>133.0582</td>\n",
       "      <td>Team 1</td>\n",
       "      <td>Team 2</td>\n",
       "      <td>CounterTerrorist</td>\n",
       "      <td>...</td>\n",
       "      <td>76561198123082770</td>\n",
       "      <td>17</td>\n",
       "      <td>1473.847</td>\n",
       "      <td>1351.358</td>\n",
       "      <td>662.170</td>\n",
       "      <td>772.748</td>\n",
       "      <td>PISTOL_ROUND</td>\n",
       "      <td>2950</td>\n",
       "      <td>3850</td>\n",
       "      <td>16.0</td>\n",
       "    </tr>\n",
       "    <tr>\n",
       "      <th>003201673717864202280_0171883906.dem 1</th>\n",
       "      <td>1</td>\n",
       "      <td>003201673717864202280_0171883906.dem</td>\n",
       "      <td>de_dust2</td>\n",
       "      <td>09/28/2017 8:44:22 PM</td>\n",
       "      <td>1</td>\n",
       "      <td>8600</td>\n",
       "      <td>134.9023</td>\n",
       "      <td>Team 1</td>\n",
       "      <td>Team 2</td>\n",
       "      <td>CounterTerrorist</td>\n",
       "      <td>...</td>\n",
       "      <td>76561198051040004</td>\n",
       "      <td>17</td>\n",
       "      <td>-1211.723</td>\n",
       "      <td>1060.813</td>\n",
       "      <td>-1184.006</td>\n",
       "      <td>1153.343</td>\n",
       "      <td>PISTOL_ROUND</td>\n",
       "      <td>2950</td>\n",
       "      <td>3850</td>\n",
       "      <td>16.0</td>\n",
       "    </tr>\n",
       "    <tr>\n",
       "      <th>003201673717864202280_0171883906.dem 1</th>\n",
       "      <td>2</td>\n",
       "      <td>003201673717864202280_0171883906.dem</td>\n",
       "      <td>de_dust2</td>\n",
       "      <td>09/28/2017 8:44:22 PM</td>\n",
       "      <td>1</td>\n",
       "      <td>8610</td>\n",
       "      <td>135.0586</td>\n",
       "      <td>Team 2</td>\n",
       "      <td>Team 1</td>\n",
       "      <td>Terrorist</td>\n",
       "      <td>...</td>\n",
       "      <td>76561198223006752</td>\n",
       "      <td>16</td>\n",
       "      <td>-1153.584</td>\n",
       "      <td>1163.131</td>\n",
       "      <td>-1198.015</td>\n",
       "      <td>1050.423</td>\n",
       "      <td>PISTOL_ROUND</td>\n",
       "      <td>2950</td>\n",
       "      <td>3850</td>\n",
       "      <td>16.0</td>\n",
       "    </tr>\n",
       "    <tr>\n",
       "      <th>003201673717864202280_0171883906.dem 1</th>\n",
       "      <td>3</td>\n",
       "      <td>003201673717864202280_0171883906.dem</td>\n",
       "      <td>de_dust2</td>\n",
       "      <td>09/28/2017 8:44:22 PM</td>\n",
       "      <td>1</td>\n",
       "      <td>8624</td>\n",
       "      <td>135.2774</td>\n",
       "      <td>Team 1</td>\n",
       "      <td>Team 2</td>\n",
       "      <td>CounterTerrorist</td>\n",
       "      <td>...</td>\n",
       "      <td>76561198051040004</td>\n",
       "      <td>17</td>\n",
       "      <td>-1173.053</td>\n",
       "      <td>1044.365</td>\n",
       "      <td>-1141.785</td>\n",
       "      <td>1190.089</td>\n",
       "      <td>PISTOL_ROUND</td>\n",
       "      <td>2950</td>\n",
       "      <td>3850</td>\n",
       "      <td>16.0</td>\n",
       "    </tr>\n",
       "    <tr>\n",
       "      <th>003201673717864202280_0171883906.dem 1</th>\n",
       "      <td>4</td>\n",
       "      <td>003201673717864202280_0171883906.dem</td>\n",
       "      <td>de_dust2</td>\n",
       "      <td>09/28/2017 8:44:22 PM</td>\n",
       "      <td>1</td>\n",
       "      <td>8632</td>\n",
       "      <td>135.4024</td>\n",
       "      <td>Team 2</td>\n",
       "      <td>Team 1</td>\n",
       "      <td>Terrorist</td>\n",
       "      <td>...</td>\n",
       "      <td>76561198223006752</td>\n",
       "      <td>16</td>\n",
       "      <td>-1142.522</td>\n",
       "      <td>1200.967</td>\n",
       "      <td>-1157.690</td>\n",
       "      <td>1050.702</td>\n",
       "      <td>PISTOL_ROUND</td>\n",
       "      <td>2950</td>\n",
       "      <td>3850</td>\n",
       "      <td>16.0</td>\n",
       "    </tr>\n",
       "    <tr>\n",
       "      <th>...</th>\n",
       "      <td>...</td>\n",
       "      <td>...</td>\n",
       "      <td>...</td>\n",
       "      <td>...</td>\n",
       "      <td>...</td>\n",
       "      <td>...</td>\n",
       "      <td>...</td>\n",
       "      <td>...</td>\n",
       "      <td>...</td>\n",
       "      <td>...</td>\n",
       "      <td>...</td>\n",
       "      <td>...</td>\n",
       "      <td>...</td>\n",
       "      <td>...</td>\n",
       "      <td>...</td>\n",
       "      <td>...</td>\n",
       "      <td>...</td>\n",
       "      <td>...</td>\n",
       "      <td>...</td>\n",
       "      <td>...</td>\n",
       "      <td>...</td>\n",
       "    </tr>\n",
       "    <tr>\n",
       "      <th>003235042038193848574_1296145074.dem 27</th>\n",
       "      <td>837</td>\n",
       "      <td>003235042038193848574_1296145074.dem</td>\n",
       "      <td>de_cbble</td>\n",
       "      <td>09/28/2017 2:08:52 PM</td>\n",
       "      <td>27</td>\n",
       "      <td>194142</td>\n",
       "      <td>3033.9980</td>\n",
       "      <td>Team 1</td>\n",
       "      <td>Team 2</td>\n",
       "      <td>Terrorist</td>\n",
       "      <td>...</td>\n",
       "      <td>76561198209959781</td>\n",
       "      <td>14</td>\n",
       "      <td>-2744.494</td>\n",
       "      <td>-1320.516</td>\n",
       "      <td>-1777.171</td>\n",
       "      <td>-1431.703</td>\n",
       "      <td>NORMAL</td>\n",
       "      <td>29250</td>\n",
       "      <td>28950</td>\n",
       "      <td>12.0</td>\n",
       "    </tr>\n",
       "    <tr>\n",
       "      <th>003235042038193848574_1296145074.dem 27</th>\n",
       "      <td>838</td>\n",
       "      <td>003235042038193848574_1296145074.dem</td>\n",
       "      <td>de_cbble</td>\n",
       "      <td>09/28/2017 2:08:52 PM</td>\n",
       "      <td>27</td>\n",
       "      <td>194258</td>\n",
       "      <td>3035.8110</td>\n",
       "      <td>Team 1</td>\n",
       "      <td>Team 2</td>\n",
       "      <td>Terrorist</td>\n",
       "      <td>...</td>\n",
       "      <td>76561198209959781</td>\n",
       "      <td>14</td>\n",
       "      <td>-2643.451</td>\n",
       "      <td>-1579.216</td>\n",
       "      <td>-1778.660</td>\n",
       "      <td>-1422.033</td>\n",
       "      <td>NORMAL</td>\n",
       "      <td>29250</td>\n",
       "      <td>28950</td>\n",
       "      <td>12.0</td>\n",
       "    </tr>\n",
       "    <tr>\n",
       "      <th>003235042038193848574_1296145074.dem 27</th>\n",
       "      <td>839</td>\n",
       "      <td>003235042038193848574_1296145074.dem</td>\n",
       "      <td>de_cbble</td>\n",
       "      <td>09/28/2017 2:08:52 PM</td>\n",
       "      <td>27</td>\n",
       "      <td>194270</td>\n",
       "      <td>3035.9980</td>\n",
       "      <td>Team 1</td>\n",
       "      <td>Team 2</td>\n",
       "      <td>Terrorist</td>\n",
       "      <td>...</td>\n",
       "      <td>76561198209959781</td>\n",
       "      <td>14</td>\n",
       "      <td>-2643.451</td>\n",
       "      <td>-1579.216</td>\n",
       "      <td>-1792.069</td>\n",
       "      <td>-1381.254</td>\n",
       "      <td>NORMAL</td>\n",
       "      <td>29250</td>\n",
       "      <td>28950</td>\n",
       "      <td>12.0</td>\n",
       "    </tr>\n",
       "    <tr>\n",
       "      <th>003235042038193848574_1296145074.dem 27</th>\n",
       "      <td>840</td>\n",
       "      <td>003235042038193848574_1296145074.dem</td>\n",
       "      <td>de_cbble</td>\n",
       "      <td>09/28/2017 2:08:52 PM</td>\n",
       "      <td>27</td>\n",
       "      <td>194284</td>\n",
       "      <td>3036.2170</td>\n",
       "      <td>Team 1</td>\n",
       "      <td>Team 2</td>\n",
       "      <td>Terrorist</td>\n",
       "      <td>...</td>\n",
       "      <td>76561198209959781</td>\n",
       "      <td>14</td>\n",
       "      <td>-2643.451</td>\n",
       "      <td>-1579.216</td>\n",
       "      <td>-1822.041</td>\n",
       "      <td>-1338.798</td>\n",
       "      <td>NORMAL</td>\n",
       "      <td>29250</td>\n",
       "      <td>28950</td>\n",
       "      <td>12.0</td>\n",
       "    </tr>\n",
       "    <tr>\n",
       "      <th>003235042038193848574_1296145074.dem 27</th>\n",
       "      <td>841</td>\n",
       "      <td>003235042038193848574_1296145074.dem</td>\n",
       "      <td>de_cbble</td>\n",
       "      <td>09/28/2017 2:08:52 PM</td>\n",
       "      <td>27</td>\n",
       "      <td>194296</td>\n",
       "      <td>3036.4050</td>\n",
       "      <td>Team 1</td>\n",
       "      <td>Team 2</td>\n",
       "      <td>Terrorist</td>\n",
       "      <td>...</td>\n",
       "      <td>76561198209959781</td>\n",
       "      <td>14</td>\n",
       "      <td>-2643.451</td>\n",
       "      <td>-1579.216</td>\n",
       "      <td>-1843.570</td>\n",
       "      <td>-1325.586</td>\n",
       "      <td>NORMAL</td>\n",
       "      <td>29250</td>\n",
       "      <td>28950</td>\n",
       "      <td>12.0</td>\n",
       "    </tr>\n",
       "  </tbody>\n",
       "</table>\n",
       "<p>955466 rows × 33 columns</p>\n",
       "</div>"
      ],
      "text/plain": [
       "                                         Unnamed: 0  \\\n",
       "round_id                                              \n",
       "003201673717864202280_0171883906.dem 1            0   \n",
       "003201673717864202280_0171883906.dem 1            1   \n",
       "003201673717864202280_0171883906.dem 1            2   \n",
       "003201673717864202280_0171883906.dem 1            3   \n",
       "003201673717864202280_0171883906.dem 1            4   \n",
       "...                                             ...   \n",
       "003235042038193848574_1296145074.dem 27         837   \n",
       "003235042038193848574_1296145074.dem 27         838   \n",
       "003235042038193848574_1296145074.dem 27         839   \n",
       "003235042038193848574_1296145074.dem 27         840   \n",
       "003235042038193848574_1296145074.dem 27         841   \n",
       "\n",
       "                                                                         file  \\\n",
       "round_id                                                                        \n",
       "003201673717864202280_0171883906.dem 1   003201673717864202280_0171883906.dem   \n",
       "003201673717864202280_0171883906.dem 1   003201673717864202280_0171883906.dem   \n",
       "003201673717864202280_0171883906.dem 1   003201673717864202280_0171883906.dem   \n",
       "003201673717864202280_0171883906.dem 1   003201673717864202280_0171883906.dem   \n",
       "003201673717864202280_0171883906.dem 1   003201673717864202280_0171883906.dem   \n",
       "...                                                                       ...   \n",
       "003235042038193848574_1296145074.dem 27  003235042038193848574_1296145074.dem   \n",
       "003235042038193848574_1296145074.dem 27  003235042038193848574_1296145074.dem   \n",
       "003235042038193848574_1296145074.dem 27  003235042038193848574_1296145074.dem   \n",
       "003235042038193848574_1296145074.dem 27  003235042038193848574_1296145074.dem   \n",
       "003235042038193848574_1296145074.dem 27  003235042038193848574_1296145074.dem   \n",
       "\n",
       "                                              map                   date  \\\n",
       "round_id                                                                   \n",
       "003201673717864202280_0171883906.dem 1   de_dust2  09/28/2017 8:44:22 PM   \n",
       "003201673717864202280_0171883906.dem 1   de_dust2  09/28/2017 8:44:22 PM   \n",
       "003201673717864202280_0171883906.dem 1   de_dust2  09/28/2017 8:44:22 PM   \n",
       "003201673717864202280_0171883906.dem 1   de_dust2  09/28/2017 8:44:22 PM   \n",
       "003201673717864202280_0171883906.dem 1   de_dust2  09/28/2017 8:44:22 PM   \n",
       "...                                           ...                    ...   \n",
       "003235042038193848574_1296145074.dem 27  de_cbble  09/28/2017 2:08:52 PM   \n",
       "003235042038193848574_1296145074.dem 27  de_cbble  09/28/2017 2:08:52 PM   \n",
       "003235042038193848574_1296145074.dem 27  de_cbble  09/28/2017 2:08:52 PM   \n",
       "003235042038193848574_1296145074.dem 27  de_cbble  09/28/2017 2:08:52 PM   \n",
       "003235042038193848574_1296145074.dem 27  de_cbble  09/28/2017 2:08:52 PM   \n",
       "\n",
       "                                         round    tick    seconds att_team  \\\n",
       "round_id                                                                     \n",
       "003201673717864202280_0171883906.dem 1       1    8482   133.0582   Team 1   \n",
       "003201673717864202280_0171883906.dem 1       1    8600   134.9023   Team 1   \n",
       "003201673717864202280_0171883906.dem 1       1    8610   135.0586   Team 2   \n",
       "003201673717864202280_0171883906.dem 1       1    8624   135.2774   Team 1   \n",
       "003201673717864202280_0171883906.dem 1       1    8632   135.4024   Team 2   \n",
       "...                                        ...     ...        ...      ...   \n",
       "003235042038193848574_1296145074.dem 27     27  194142  3033.9980   Team 1   \n",
       "003235042038193848574_1296145074.dem 27     27  194258  3035.8110   Team 1   \n",
       "003235042038193848574_1296145074.dem 27     27  194270  3035.9980   Team 1   \n",
       "003235042038193848574_1296145074.dem 27     27  194284  3036.2170   Team 1   \n",
       "003235042038193848574_1296145074.dem 27     27  194296  3036.4050   Team 1   \n",
       "\n",
       "                                        vic_team          att_side  ...  \\\n",
       "round_id                                                            ...   \n",
       "003201673717864202280_0171883906.dem 1    Team 2  CounterTerrorist  ...   \n",
       "003201673717864202280_0171883906.dem 1    Team 2  CounterTerrorist  ...   \n",
       "003201673717864202280_0171883906.dem 1    Team 1         Terrorist  ...   \n",
       "003201673717864202280_0171883906.dem 1    Team 2  CounterTerrorist  ...   \n",
       "003201673717864202280_0171883906.dem 1    Team 1         Terrorist  ...   \n",
       "...                                          ...               ...  ...   \n",
       "003235042038193848574_1296145074.dem 27   Team 2         Terrorist  ...   \n",
       "003235042038193848574_1296145074.dem 27   Team 2         Terrorist  ...   \n",
       "003235042038193848574_1296145074.dem 27   Team 2         Terrorist  ...   \n",
       "003235042038193848574_1296145074.dem 27   Team 2         Terrorist  ...   \n",
       "003235042038193848574_1296145074.dem 27   Team 2         Terrorist  ...   \n",
       "\n",
       "                                                    vic_id  vic_rank  \\\n",
       "round_id                                                               \n",
       "003201673717864202280_0171883906.dem 1   76561198123082770        17   \n",
       "003201673717864202280_0171883906.dem 1   76561198051040004        17   \n",
       "003201673717864202280_0171883906.dem 1   76561198223006752        16   \n",
       "003201673717864202280_0171883906.dem 1   76561198051040004        17   \n",
       "003201673717864202280_0171883906.dem 1   76561198223006752        16   \n",
       "...                                                    ...       ...   \n",
       "003235042038193848574_1296145074.dem 27  76561198209959781        14   \n",
       "003235042038193848574_1296145074.dem 27  76561198209959781        14   \n",
       "003235042038193848574_1296145074.dem 27  76561198209959781        14   \n",
       "003235042038193848574_1296145074.dem 27  76561198209959781        14   \n",
       "003235042038193848574_1296145074.dem 27  76561198209959781        14   \n",
       "\n",
       "                                         att_pos_x  att_pos_y vic_pos_x  \\\n",
       "round_id                                                                  \n",
       "003201673717864202280_0171883906.dem 1    1473.847   1351.358   662.170   \n",
       "003201673717864202280_0171883906.dem 1   -1211.723   1060.813 -1184.006   \n",
       "003201673717864202280_0171883906.dem 1   -1153.584   1163.131 -1198.015   \n",
       "003201673717864202280_0171883906.dem 1   -1173.053   1044.365 -1141.785   \n",
       "003201673717864202280_0171883906.dem 1   -1142.522   1200.967 -1157.690   \n",
       "...                                            ...        ...       ...   \n",
       "003235042038193848574_1296145074.dem 27  -2744.494  -1320.516 -1777.171   \n",
       "003235042038193848574_1296145074.dem 27  -2643.451  -1579.216 -1778.660   \n",
       "003235042038193848574_1296145074.dem 27  -2643.451  -1579.216 -1792.069   \n",
       "003235042038193848574_1296145074.dem 27  -2643.451  -1579.216 -1822.041   \n",
       "003235042038193848574_1296145074.dem 27  -2643.451  -1579.216 -1843.570   \n",
       "\n",
       "                                        vic_pos_y    round_type ct_eq_val  \\\n",
       "round_id                                                                    \n",
       "003201673717864202280_0171883906.dem 1    772.748  PISTOL_ROUND      2950   \n",
       "003201673717864202280_0171883906.dem 1   1153.343  PISTOL_ROUND      2950   \n",
       "003201673717864202280_0171883906.dem 1   1050.423  PISTOL_ROUND      2950   \n",
       "003201673717864202280_0171883906.dem 1   1190.089  PISTOL_ROUND      2950   \n",
       "003201673717864202280_0171883906.dem 1   1050.702  PISTOL_ROUND      2950   \n",
       "...                                           ...           ...       ...   \n",
       "003235042038193848574_1296145074.dem 27 -1431.703        NORMAL     29250   \n",
       "003235042038193848574_1296145074.dem 27 -1422.033        NORMAL     29250   \n",
       "003235042038193848574_1296145074.dem 27 -1381.254        NORMAL     29250   \n",
       "003235042038193848574_1296145074.dem 27 -1338.798        NORMAL     29250   \n",
       "003235042038193848574_1296145074.dem 27 -1325.586        NORMAL     29250   \n",
       "\n",
       "                                         t_eq_val avg_match_rank  \n",
       "round_id                                                          \n",
       "003201673717864202280_0171883906.dem 1       3850           16.0  \n",
       "003201673717864202280_0171883906.dem 1       3850           16.0  \n",
       "003201673717864202280_0171883906.dem 1       3850           16.0  \n",
       "003201673717864202280_0171883906.dem 1       3850           16.0  \n",
       "003201673717864202280_0171883906.dem 1       3850           16.0  \n",
       "...                                           ...            ...  \n",
       "003235042038193848574_1296145074.dem 27     28950           12.0  \n",
       "003235042038193848574_1296145074.dem 27     28950           12.0  \n",
       "003235042038193848574_1296145074.dem 27     28950           12.0  \n",
       "003235042038193848574_1296145074.dem 27     28950           12.0  \n",
       "003235042038193848574_1296145074.dem 27     28950           12.0  \n",
       "\n",
       "[955466 rows x 33 columns]"
      ]
     },
     "execution_count": 524,
     "metadata": {},
     "output_type": "execute_result"
    }
   ],
   "source": [
    "df['round_id'] = df['file'] + ' ' + df['round'].apply(str)\n",
    "df_nades['round_id'] = df_nades['file'] + ' ' + df_nades['round'].apply(str)"
   ]
  },
  {
   "cell_type": "markdown",
   "metadata": {},
   "source": [
    "For convenience we're going to drop all the columns we don't need here. This way we can better see the remaining data in our tables."
   ]
  },
  {
   "cell_type": "code",
   "execution_count": 525,
   "metadata": {
    "scrolled": false
   },
   "outputs": [
    {
     "data": {
      "text/plain": [
       "Index(['Unnamed: 0', 'file', 'map', 'date', 'round', 'tick', 'seconds',\n",
       "       'att_team', 'vic_team', 'att_side', 'vic_side', 'hp_dmg', 'arm_dmg',\n",
       "       'is_bomb_planted', 'bomb_site', 'hitbox', 'wp', 'wp_type', 'award',\n",
       "       'winner_team', 'winner_side', 'att_id', 'att_rank', 'vic_id',\n",
       "       'vic_rank', 'att_pos_x', 'att_pos_y', 'vic_pos_x', 'vic_pos_y',\n",
       "       'round_type', 'ct_eq_val', 't_eq_val', 'avg_match_rank', 'round_id'],\n",
       "      dtype='object')"
      ]
     },
     "execution_count": 525,
     "metadata": {},
     "output_type": "execute_result"
    }
   ],
   "source": [
    "df.columns"
   ]
  },
  {
   "cell_type": "code",
   "execution_count": 526,
   "metadata": {},
   "outputs": [],
   "source": [
    "df = df[['file', 'round_id', 'map', 'att_team', 'att_side', 'is_bomb_planted', 'hitbox', 'wp', \\\n",
    "         'wp_type', 'winner_team', 'winner_side', 'att_id', 'round_type', 'ct_eq_val', \\\n",
    "         't_eq_val', 'avg_match_rank']]\n",
    "df_nades = df_nades[['round_id', 'att_team', 'att_id', 'nade', 'nade_land_x', 'nade_land_y']]"
   ]
  },
  {
   "cell_type": "code",
   "execution_count": 527,
   "metadata": {},
   "outputs": [
    {
     "data": {
      "text/html": [
       "<div>\n",
       "<style scoped>\n",
       "    .dataframe tbody tr th:only-of-type {\n",
       "        vertical-align: middle;\n",
       "    }\n",
       "\n",
       "    .dataframe tbody tr th {\n",
       "        vertical-align: top;\n",
       "    }\n",
       "\n",
       "    .dataframe thead th {\n",
       "        text-align: right;\n",
       "    }\n",
       "</style>\n",
       "<table border=\"1\" class=\"dataframe\">\n",
       "  <thead>\n",
       "    <tr style=\"text-align: right;\">\n",
       "      <th></th>\n",
       "      <th>file</th>\n",
       "      <th>round_id</th>\n",
       "      <th>map</th>\n",
       "      <th>att_team</th>\n",
       "      <th>att_side</th>\n",
       "      <th>is_bomb_planted</th>\n",
       "      <th>hitbox</th>\n",
       "      <th>wp</th>\n",
       "      <th>wp_type</th>\n",
       "      <th>winner_team</th>\n",
       "      <th>winner_side</th>\n",
       "      <th>att_id</th>\n",
       "      <th>round_type</th>\n",
       "      <th>ct_eq_val</th>\n",
       "      <th>t_eq_val</th>\n",
       "      <th>avg_match_rank</th>\n",
       "    </tr>\n",
       "  </thead>\n",
       "  <tbody>\n",
       "    <tr>\n",
       "      <th>0</th>\n",
       "      <td>003201673717864202280_0171883906.dem</td>\n",
       "      <td>003201673717864202280_0171883906.dem 1</td>\n",
       "      <td>de_dust2</td>\n",
       "      <td>Team 1</td>\n",
       "      <td>CounterTerrorist</td>\n",
       "      <td>False</td>\n",
       "      <td>Head</td>\n",
       "      <td>USP</td>\n",
       "      <td>Pistol</td>\n",
       "      <td>Team 1</td>\n",
       "      <td>CounterTerrorist</td>\n",
       "      <td>76561198085893650</td>\n",
       "      <td>PISTOL_ROUND</td>\n",
       "      <td>2950</td>\n",
       "      <td>3850</td>\n",
       "      <td>16.0</td>\n",
       "    </tr>\n",
       "    <tr>\n",
       "      <th>1</th>\n",
       "      <td>003201673717864202280_0171883906.dem</td>\n",
       "      <td>003201673717864202280_0171883906.dem 1</td>\n",
       "      <td>de_dust2</td>\n",
       "      <td>Team 1</td>\n",
       "      <td>CounterTerrorist</td>\n",
       "      <td>False</td>\n",
       "      <td>RightLeg</td>\n",
       "      <td>USP</td>\n",
       "      <td>Pistol</td>\n",
       "      <td>Team 1</td>\n",
       "      <td>CounterTerrorist</td>\n",
       "      <td>76561198223006752</td>\n",
       "      <td>PISTOL_ROUND</td>\n",
       "      <td>2950</td>\n",
       "      <td>3850</td>\n",
       "      <td>16.0</td>\n",
       "    </tr>\n",
       "    <tr>\n",
       "      <th>2</th>\n",
       "      <td>003201673717864202280_0171883906.dem</td>\n",
       "      <td>003201673717864202280_0171883906.dem 1</td>\n",
       "      <td>de_dust2</td>\n",
       "      <td>Team 2</td>\n",
       "      <td>Terrorist</td>\n",
       "      <td>False</td>\n",
       "      <td>LeftLeg</td>\n",
       "      <td>Glock</td>\n",
       "      <td>Pistol</td>\n",
       "      <td>Team 1</td>\n",
       "      <td>CounterTerrorist</td>\n",
       "      <td>76561198051040004</td>\n",
       "      <td>PISTOL_ROUND</td>\n",
       "      <td>2950</td>\n",
       "      <td>3850</td>\n",
       "      <td>16.0</td>\n",
       "    </tr>\n",
       "    <tr>\n",
       "      <th>3</th>\n",
       "      <td>003201673717864202280_0171883906.dem</td>\n",
       "      <td>003201673717864202280_0171883906.dem 1</td>\n",
       "      <td>de_dust2</td>\n",
       "      <td>Team 1</td>\n",
       "      <td>CounterTerrorist</td>\n",
       "      <td>False</td>\n",
       "      <td>Chest</td>\n",
       "      <td>USP</td>\n",
       "      <td>Pistol</td>\n",
       "      <td>Team 1</td>\n",
       "      <td>CounterTerrorist</td>\n",
       "      <td>76561198223006752</td>\n",
       "      <td>PISTOL_ROUND</td>\n",
       "      <td>2950</td>\n",
       "      <td>3850</td>\n",
       "      <td>16.0</td>\n",
       "    </tr>\n",
       "    <tr>\n",
       "      <th>4</th>\n",
       "      <td>003201673717864202280_0171883906.dem</td>\n",
       "      <td>003201673717864202280_0171883906.dem 1</td>\n",
       "      <td>de_dust2</td>\n",
       "      <td>Team 2</td>\n",
       "      <td>Terrorist</td>\n",
       "      <td>False</td>\n",
       "      <td>Chest</td>\n",
       "      <td>Glock</td>\n",
       "      <td>Pistol</td>\n",
       "      <td>Team 1</td>\n",
       "      <td>CounterTerrorist</td>\n",
       "      <td>76561198051040004</td>\n",
       "      <td>PISTOL_ROUND</td>\n",
       "      <td>2950</td>\n",
       "      <td>3850</td>\n",
       "      <td>16.0</td>\n",
       "    </tr>\n",
       "  </tbody>\n",
       "</table>\n",
       "</div>"
      ],
      "text/plain": [
       "                                   file  \\\n",
       "0  003201673717864202280_0171883906.dem   \n",
       "1  003201673717864202280_0171883906.dem   \n",
       "2  003201673717864202280_0171883906.dem   \n",
       "3  003201673717864202280_0171883906.dem   \n",
       "4  003201673717864202280_0171883906.dem   \n",
       "\n",
       "                                 round_id       map att_team  \\\n",
       "0  003201673717864202280_0171883906.dem 1  de_dust2   Team 1   \n",
       "1  003201673717864202280_0171883906.dem 1  de_dust2   Team 1   \n",
       "2  003201673717864202280_0171883906.dem 1  de_dust2   Team 2   \n",
       "3  003201673717864202280_0171883906.dem 1  de_dust2   Team 1   \n",
       "4  003201673717864202280_0171883906.dem 1  de_dust2   Team 2   \n",
       "\n",
       "           att_side  is_bomb_planted    hitbox     wp wp_type winner_team  \\\n",
       "0  CounterTerrorist            False      Head    USP  Pistol      Team 1   \n",
       "1  CounterTerrorist            False  RightLeg    USP  Pistol      Team 1   \n",
       "2         Terrorist            False   LeftLeg  Glock  Pistol      Team 1   \n",
       "3  CounterTerrorist            False     Chest    USP  Pistol      Team 1   \n",
       "4         Terrorist            False     Chest  Glock  Pistol      Team 1   \n",
       "\n",
       "        winner_side             att_id    round_type  ct_eq_val  t_eq_val  \\\n",
       "0  CounterTerrorist  76561198085893650  PISTOL_ROUND       2950      3850   \n",
       "1  CounterTerrorist  76561198223006752  PISTOL_ROUND       2950      3850   \n",
       "2  CounterTerrorist  76561198051040004  PISTOL_ROUND       2950      3850   \n",
       "3  CounterTerrorist  76561198223006752  PISTOL_ROUND       2950      3850   \n",
       "4  CounterTerrorist  76561198051040004  PISTOL_ROUND       2950      3850   \n",
       "\n",
       "   avg_match_rank  \n",
       "0            16.0  \n",
       "1            16.0  \n",
       "2            16.0  \n",
       "3            16.0  \n",
       "4            16.0  "
      ]
     },
     "metadata": {},
     "output_type": "display_data"
    }
   ],
   "source": [
    "display(df.head())"
   ]
  },
  {
   "cell_type": "markdown",
   "metadata": {},
   "source": [
    "As will be explained later, we're also going to remove the most unpopular maps due to small sample sizes in our analysis."
   ]
  },
  {
   "cell_type": "code",
   "execution_count": 528,
   "metadata": {},
   "outputs": [
    {
     "data": {
      "text/plain": [
       "array(['de_dust2', 'de_cache', 'de_inferno', 'de_mirage', 'de_cbble',\n",
       "       'cs_agency', 'de_overpass', 'de_dust', 'de_train', 'de_austria',\n",
       "       'de_nuke', 'cs_assault', 'de_thrill', 'de_blackgold',\n",
       "       'cs_insertion', 'cs_office', 'de_shipped', 'de_vertigo',\n",
       "       'de_canals', 'cs_italy', 'de_aztec'], dtype=object)"
      ]
     },
     "execution_count": 528,
     "metadata": {},
     "output_type": "execute_result"
    }
   ],
   "source": [
    "df['map'].unique()"
   ]
  },
  {
   "cell_type": "code",
   "execution_count": 529,
   "metadata": {},
   "outputs": [],
   "source": [
    "df_orig = df.copy()\n",
    "\n",
    "valid_maps = ['de_dust2', 'de_cache', 'de_inferno', 'de_mirage', 'de_cbble', 'de_overpass', 'de_nuke', 'de_train']\n",
    "df = df[df['map'].isin(valid_maps)]"
   ]
  },
  {
   "cell_type": "markdown",
   "metadata": {},
   "source": [
    "We also want to split our data based on opposing teams so we're going to split the data here to work on them separately before merging back together"
   ]
  },
  {
   "cell_type": "code",
   "execution_count": 532,
   "metadata": {},
   "outputs": [],
   "source": [
    "df_team1 = df[df['att_team'] == 'Team 1']\n",
    "df_team2 = df[df['att_team'] == 'Team 2']\n",
    "df_nades1 = df_nades[df_nades['att_team'] == 'Team 1']\n",
    "df_nades2 = df_nades[df_nades['att_team'] == 'Team 2']"
   ]
  },
  {
   "cell_type": "code",
   "execution_count": 533,
   "metadata": {},
   "outputs": [
    {
     "data": {
      "text/html": [
       "<div>\n",
       "<style scoped>\n",
       "    .dataframe tbody tr th:only-of-type {\n",
       "        vertical-align: middle;\n",
       "    }\n",
       "\n",
       "    .dataframe tbody tr th {\n",
       "        vertical-align: top;\n",
       "    }\n",
       "\n",
       "    .dataframe thead th {\n",
       "        text-align: right;\n",
       "    }\n",
       "</style>\n",
       "<table border=\"1\" class=\"dataframe\">\n",
       "  <thead>\n",
       "    <tr style=\"text-align: right;\">\n",
       "      <th></th>\n",
       "      <th>file</th>\n",
       "      <th>round_id</th>\n",
       "      <th>map</th>\n",
       "      <th>att_team</th>\n",
       "      <th>att_side</th>\n",
       "      <th>is_bomb_planted</th>\n",
       "      <th>hitbox</th>\n",
       "      <th>wp</th>\n",
       "      <th>wp_type</th>\n",
       "      <th>winner_team</th>\n",
       "      <th>winner_side</th>\n",
       "      <th>att_id</th>\n",
       "      <th>round_type</th>\n",
       "      <th>ct_eq_val</th>\n",
       "      <th>t_eq_val</th>\n",
       "      <th>avg_match_rank</th>\n",
       "    </tr>\n",
       "  </thead>\n",
       "  <tbody>\n",
       "    <tr>\n",
       "      <th>0</th>\n",
       "      <td>003201673717864202280_0171883906.dem</td>\n",
       "      <td>003201673717864202280_0171883906.dem 1</td>\n",
       "      <td>de_dust2</td>\n",
       "      <td>Team 1</td>\n",
       "      <td>CounterTerrorist</td>\n",
       "      <td>False</td>\n",
       "      <td>Head</td>\n",
       "      <td>USP</td>\n",
       "      <td>Pistol</td>\n",
       "      <td>Team 1</td>\n",
       "      <td>CounterTerrorist</td>\n",
       "      <td>76561198085893650</td>\n",
       "      <td>PISTOL_ROUND</td>\n",
       "      <td>2950</td>\n",
       "      <td>3850</td>\n",
       "      <td>16.0</td>\n",
       "    </tr>\n",
       "    <tr>\n",
       "      <th>1</th>\n",
       "      <td>003201673717864202280_0171883906.dem</td>\n",
       "      <td>003201673717864202280_0171883906.dem 1</td>\n",
       "      <td>de_dust2</td>\n",
       "      <td>Team 1</td>\n",
       "      <td>CounterTerrorist</td>\n",
       "      <td>False</td>\n",
       "      <td>RightLeg</td>\n",
       "      <td>USP</td>\n",
       "      <td>Pistol</td>\n",
       "      <td>Team 1</td>\n",
       "      <td>CounterTerrorist</td>\n",
       "      <td>76561198223006752</td>\n",
       "      <td>PISTOL_ROUND</td>\n",
       "      <td>2950</td>\n",
       "      <td>3850</td>\n",
       "      <td>16.0</td>\n",
       "    </tr>\n",
       "    <tr>\n",
       "      <th>3</th>\n",
       "      <td>003201673717864202280_0171883906.dem</td>\n",
       "      <td>003201673717864202280_0171883906.dem 1</td>\n",
       "      <td>de_dust2</td>\n",
       "      <td>Team 1</td>\n",
       "      <td>CounterTerrorist</td>\n",
       "      <td>False</td>\n",
       "      <td>Chest</td>\n",
       "      <td>USP</td>\n",
       "      <td>Pistol</td>\n",
       "      <td>Team 1</td>\n",
       "      <td>CounterTerrorist</td>\n",
       "      <td>76561198223006752</td>\n",
       "      <td>PISTOL_ROUND</td>\n",
       "      <td>2950</td>\n",
       "      <td>3850</td>\n",
       "      <td>16.0</td>\n",
       "    </tr>\n",
       "    <tr>\n",
       "      <th>8</th>\n",
       "      <td>003201673717864202280_0171883906.dem</td>\n",
       "      <td>003201673717864202280_0171883906.dem 1</td>\n",
       "      <td>de_dust2</td>\n",
       "      <td>Team 1</td>\n",
       "      <td>CounterTerrorist</td>\n",
       "      <td>False</td>\n",
       "      <td>Stomach</td>\n",
       "      <td>USP</td>\n",
       "      <td>Pistol</td>\n",
       "      <td>Team 1</td>\n",
       "      <td>CounterTerrorist</td>\n",
       "      <td>76561198081341202</td>\n",
       "      <td>PISTOL_ROUND</td>\n",
       "      <td>2950</td>\n",
       "      <td>3850</td>\n",
       "      <td>16.0</td>\n",
       "    </tr>\n",
       "    <tr>\n",
       "      <th>9</th>\n",
       "      <td>003201673717864202280_0171883906.dem</td>\n",
       "      <td>003201673717864202280_0171883906.dem 1</td>\n",
       "      <td>de_dust2</td>\n",
       "      <td>Team 1</td>\n",
       "      <td>CounterTerrorist</td>\n",
       "      <td>False</td>\n",
       "      <td>Chest</td>\n",
       "      <td>USP</td>\n",
       "      <td>Pistol</td>\n",
       "      <td>Team 1</td>\n",
       "      <td>CounterTerrorist</td>\n",
       "      <td>76561198081341202</td>\n",
       "      <td>PISTOL_ROUND</td>\n",
       "      <td>2950</td>\n",
       "      <td>3850</td>\n",
       "      <td>16.0</td>\n",
       "    </tr>\n",
       "  </tbody>\n",
       "</table>\n",
       "</div>"
      ],
      "text/plain": [
       "                                   file  \\\n",
       "0  003201673717864202280_0171883906.dem   \n",
       "1  003201673717864202280_0171883906.dem   \n",
       "3  003201673717864202280_0171883906.dem   \n",
       "8  003201673717864202280_0171883906.dem   \n",
       "9  003201673717864202280_0171883906.dem   \n",
       "\n",
       "                                 round_id       map att_team  \\\n",
       "0  003201673717864202280_0171883906.dem 1  de_dust2   Team 1   \n",
       "1  003201673717864202280_0171883906.dem 1  de_dust2   Team 1   \n",
       "3  003201673717864202280_0171883906.dem 1  de_dust2   Team 1   \n",
       "8  003201673717864202280_0171883906.dem 1  de_dust2   Team 1   \n",
       "9  003201673717864202280_0171883906.dem 1  de_dust2   Team 1   \n",
       "\n",
       "           att_side  is_bomb_planted    hitbox   wp wp_type winner_team  \\\n",
       "0  CounterTerrorist            False      Head  USP  Pistol      Team 1   \n",
       "1  CounterTerrorist            False  RightLeg  USP  Pistol      Team 1   \n",
       "3  CounterTerrorist            False     Chest  USP  Pistol      Team 1   \n",
       "8  CounterTerrorist            False   Stomach  USP  Pistol      Team 1   \n",
       "9  CounterTerrorist            False     Chest  USP  Pistol      Team 1   \n",
       "\n",
       "        winner_side             att_id    round_type  ct_eq_val  t_eq_val  \\\n",
       "0  CounterTerrorist  76561198085893650  PISTOL_ROUND       2950      3850   \n",
       "1  CounterTerrorist  76561198223006752  PISTOL_ROUND       2950      3850   \n",
       "3  CounterTerrorist  76561198223006752  PISTOL_ROUND       2950      3850   \n",
       "8  CounterTerrorist  76561198081341202  PISTOL_ROUND       2950      3850   \n",
       "9  CounterTerrorist  76561198081341202  PISTOL_ROUND       2950      3850   \n",
       "\n",
       "   avg_match_rank  \n",
       "0            16.0  \n",
       "1            16.0  \n",
       "3            16.0  \n",
       "8            16.0  \n",
       "9            16.0  "
      ]
     },
     "metadata": {},
     "output_type": "display_data"
    },
    {
     "data": {
      "text/html": [
       "<div>\n",
       "<style scoped>\n",
       "    .dataframe tbody tr th:only-of-type {\n",
       "        vertical-align: middle;\n",
       "    }\n",
       "\n",
       "    .dataframe tbody tr th {\n",
       "        vertical-align: top;\n",
       "    }\n",
       "\n",
       "    .dataframe thead th {\n",
       "        text-align: right;\n",
       "    }\n",
       "</style>\n",
       "<table border=\"1\" class=\"dataframe\">\n",
       "  <thead>\n",
       "    <tr style=\"text-align: right;\">\n",
       "      <th></th>\n",
       "      <th>file</th>\n",
       "      <th>round_id</th>\n",
       "      <th>map</th>\n",
       "      <th>att_team</th>\n",
       "      <th>att_side</th>\n",
       "      <th>is_bomb_planted</th>\n",
       "      <th>hitbox</th>\n",
       "      <th>wp</th>\n",
       "      <th>wp_type</th>\n",
       "      <th>winner_team</th>\n",
       "      <th>winner_side</th>\n",
       "      <th>att_id</th>\n",
       "      <th>round_type</th>\n",
       "      <th>ct_eq_val</th>\n",
       "      <th>t_eq_val</th>\n",
       "      <th>avg_match_rank</th>\n",
       "    </tr>\n",
       "  </thead>\n",
       "  <tbody>\n",
       "    <tr>\n",
       "      <th>2</th>\n",
       "      <td>003201673717864202280_0171883906.dem</td>\n",
       "      <td>003201673717864202280_0171883906.dem 1</td>\n",
       "      <td>de_dust2</td>\n",
       "      <td>Team 2</td>\n",
       "      <td>Terrorist</td>\n",
       "      <td>False</td>\n",
       "      <td>LeftLeg</td>\n",
       "      <td>Glock</td>\n",
       "      <td>Pistol</td>\n",
       "      <td>Team 1</td>\n",
       "      <td>CounterTerrorist</td>\n",
       "      <td>76561198051040004</td>\n",
       "      <td>PISTOL_ROUND</td>\n",
       "      <td>2950</td>\n",
       "      <td>3850</td>\n",
       "      <td>16.0</td>\n",
       "    </tr>\n",
       "    <tr>\n",
       "      <th>4</th>\n",
       "      <td>003201673717864202280_0171883906.dem</td>\n",
       "      <td>003201673717864202280_0171883906.dem 1</td>\n",
       "      <td>de_dust2</td>\n",
       "      <td>Team 2</td>\n",
       "      <td>Terrorist</td>\n",
       "      <td>False</td>\n",
       "      <td>Chest</td>\n",
       "      <td>Glock</td>\n",
       "      <td>Pistol</td>\n",
       "      <td>Team 1</td>\n",
       "      <td>CounterTerrorist</td>\n",
       "      <td>76561198051040004</td>\n",
       "      <td>PISTOL_ROUND</td>\n",
       "      <td>2950</td>\n",
       "      <td>3850</td>\n",
       "      <td>16.0</td>\n",
       "    </tr>\n",
       "    <tr>\n",
       "      <th>5</th>\n",
       "      <td>003201673717864202280_0171883906.dem</td>\n",
       "      <td>003201673717864202280_0171883906.dem 1</td>\n",
       "      <td>de_dust2</td>\n",
       "      <td>Team 2</td>\n",
       "      <td>Terrorist</td>\n",
       "      <td>False</td>\n",
       "      <td>Chest</td>\n",
       "      <td>Glock</td>\n",
       "      <td>Pistol</td>\n",
       "      <td>Team 1</td>\n",
       "      <td>CounterTerrorist</td>\n",
       "      <td>76561198051040004</td>\n",
       "      <td>PISTOL_ROUND</td>\n",
       "      <td>2950</td>\n",
       "      <td>3850</td>\n",
       "      <td>16.0</td>\n",
       "    </tr>\n",
       "    <tr>\n",
       "      <th>6</th>\n",
       "      <td>003201673717864202280_0171883906.dem</td>\n",
       "      <td>003201673717864202280_0171883906.dem 1</td>\n",
       "      <td>de_dust2</td>\n",
       "      <td>Team 2</td>\n",
       "      <td>Terrorist</td>\n",
       "      <td>False</td>\n",
       "      <td>Chest</td>\n",
       "      <td>Glock</td>\n",
       "      <td>Pistol</td>\n",
       "      <td>Team 1</td>\n",
       "      <td>CounterTerrorist</td>\n",
       "      <td>76561198051040004</td>\n",
       "      <td>PISTOL_ROUND</td>\n",
       "      <td>2950</td>\n",
       "      <td>3850</td>\n",
       "      <td>16.0</td>\n",
       "    </tr>\n",
       "    <tr>\n",
       "      <th>7</th>\n",
       "      <td>003201673717864202280_0171883906.dem</td>\n",
       "      <td>003201673717864202280_0171883906.dem 1</td>\n",
       "      <td>de_dust2</td>\n",
       "      <td>Team 2</td>\n",
       "      <td>Terrorist</td>\n",
       "      <td>False</td>\n",
       "      <td>Stomach</td>\n",
       "      <td>Glock</td>\n",
       "      <td>Pistol</td>\n",
       "      <td>Team 1</td>\n",
       "      <td>CounterTerrorist</td>\n",
       "      <td>76561198051040004</td>\n",
       "      <td>PISTOL_ROUND</td>\n",
       "      <td>2950</td>\n",
       "      <td>3850</td>\n",
       "      <td>16.0</td>\n",
       "    </tr>\n",
       "  </tbody>\n",
       "</table>\n",
       "</div>"
      ],
      "text/plain": [
       "                                   file  \\\n",
       "2  003201673717864202280_0171883906.dem   \n",
       "4  003201673717864202280_0171883906.dem   \n",
       "5  003201673717864202280_0171883906.dem   \n",
       "6  003201673717864202280_0171883906.dem   \n",
       "7  003201673717864202280_0171883906.dem   \n",
       "\n",
       "                                 round_id       map att_team   att_side  \\\n",
       "2  003201673717864202280_0171883906.dem 1  de_dust2   Team 2  Terrorist   \n",
       "4  003201673717864202280_0171883906.dem 1  de_dust2   Team 2  Terrorist   \n",
       "5  003201673717864202280_0171883906.dem 1  de_dust2   Team 2  Terrorist   \n",
       "6  003201673717864202280_0171883906.dem 1  de_dust2   Team 2  Terrorist   \n",
       "7  003201673717864202280_0171883906.dem 1  de_dust2   Team 2  Terrorist   \n",
       "\n",
       "   is_bomb_planted   hitbox     wp wp_type winner_team       winner_side  \\\n",
       "2            False  LeftLeg  Glock  Pistol      Team 1  CounterTerrorist   \n",
       "4            False    Chest  Glock  Pistol      Team 1  CounterTerrorist   \n",
       "5            False    Chest  Glock  Pistol      Team 1  CounterTerrorist   \n",
       "6            False    Chest  Glock  Pistol      Team 1  CounterTerrorist   \n",
       "7            False  Stomach  Glock  Pistol      Team 1  CounterTerrorist   \n",
       "\n",
       "              att_id    round_type  ct_eq_val  t_eq_val  avg_match_rank  \n",
       "2  76561198051040004  PISTOL_ROUND       2950      3850            16.0  \n",
       "4  76561198051040004  PISTOL_ROUND       2950      3850            16.0  \n",
       "5  76561198051040004  PISTOL_ROUND       2950      3850            16.0  \n",
       "6  76561198051040004  PISTOL_ROUND       2950      3850            16.0  \n",
       "7  76561198051040004  PISTOL_ROUND       2950      3850            16.0  "
      ]
     },
     "metadata": {},
     "output_type": "display_data"
    }
   ],
   "source": [
    "display(df_team1.head(5))\n",
    "display(df_team2.head(5))"
   ]
  },
  {
   "cell_type": "markdown",
   "metadata": {},
   "source": [
    "### 1.3 Feature Engineering\n",
    "\n",
    "Now we can start working on building features that we can analyze!\n",
    "\n",
    "Some more exposition:\n",
    "\n",
    "One of the most important components of CS:GO is the economy. Players can purchase weapons to fight with using in-game money. More money is received at the end of each round depending on how the team won or lost, and by completing objectives like eliminations and planting the bomb. Some of the more powerful guns cost more money, so it is in the player's best interest to earn money. As a result, this can lead to some metagame strategies such as planting a bomb just for the money bonus, or to intentionally lose rounds so that the team earns more money from the loss-streak and save up money from not buying guns."
   ]
  },
  {
   "cell_type": "markdown",
   "metadata": {},
   "source": [
    "This leads to our first area of exploration: weapon selection. Because of the large variety of guns, it would be reasonable to assume that weapon choice would have an impact on your chances to win."
   ]
  },
  {
   "cell_type": "markdown",
   "metadata": {},
   "source": [
    "### Weapons\n",
    "We want to be able to identify which weapons each team used. Since every entry corresponds to a specific damage event, we need to be careful with how we count the number of weapons per team. For example, if a player hit someone 8 times with a USP pistol, there would be 8 separate entries for each hit. To account for this, we're going to assume that a player can only hold one of each weapon per round. That is, 8 separate entries for the USP will be condensed into the player holding one USP, not eight."
   ]
  },
  {
   "cell_type": "code",
   "execution_count": 534,
   "metadata": {},
   "outputs": [
    {
     "data": {
      "text/plain": [
       "array(['USP', 'Glock', 'P2000', 'HE', 'Tec9', 'Deagle', 'MP9', 'UMP',\n",
       "       'Famas', 'P250', 'AK47', 'AWP', 'MP7', 'M4A1', 'FiveSeven',\n",
       "       'Incendiary', 'Scout', 'Unknown', 'Knife', 'Bizon', 'Flash', 'CZ',\n",
       "       'M4A4', 'Molotov', 'P90', 'AUG', 'Gallil', 'G3SG1', 'M249',\n",
       "       'SG556', 'Mac10', 'XM1014', 'DualBarettas', 'Nova', 'Swag7',\n",
       "       'Zeus', 'Scar20', 'SawedOff', 'Smoke', 'Negev', 'Decoy', 'Bomb'],\n",
       "      dtype=object)"
      ]
     },
     "metadata": {},
     "output_type": "display_data"
    }
   ],
   "source": [
    "weapons_list = df['wp'].unique()\n",
    "display(weapons_list)"
   ]
  },
  {
   "cell_type": "markdown",
   "metadata": {},
   "source": [
    "We want to group by 'att_id', or attacker id here as well because it will be unique to each player."
   ]
  },
  {
   "cell_type": "code",
   "execution_count": 535,
   "metadata": {
    "scrolled": false
   },
   "outputs": [
    {
     "data": {
      "text/html": [
       "<div>\n",
       "<style scoped>\n",
       "    .dataframe tbody tr th:only-of-type {\n",
       "        vertical-align: middle;\n",
       "    }\n",
       "\n",
       "    .dataframe tbody tr th {\n",
       "        vertical-align: top;\n",
       "    }\n",
       "\n",
       "    .dataframe thead th {\n",
       "        text-align: right;\n",
       "    }\n",
       "</style>\n",
       "<table border=\"1\" class=\"dataframe\">\n",
       "  <thead>\n",
       "    <tr style=\"text-align: right;\">\n",
       "      <th></th>\n",
       "      <th></th>\n",
       "      <th>wp</th>\n",
       "    </tr>\n",
       "    <tr>\n",
       "      <th>round_id</th>\n",
       "      <th>att_id</th>\n",
       "      <th></th>\n",
       "    </tr>\n",
       "  </thead>\n",
       "  <tbody>\n",
       "    <tr>\n",
       "      <th rowspan=\"4\" valign=\"top\">003201673717864202280_0171883906.dem 1</th>\n",
       "      <th>76561198051106390</th>\n",
       "      <td>{'P2000': 1}</td>\n",
       "    </tr>\n",
       "    <tr>\n",
       "      <th>76561198081341202</th>\n",
       "      <td>{'USP': 1}</td>\n",
       "    </tr>\n",
       "    <tr>\n",
       "      <th>76561198085893650</th>\n",
       "      <td>{'USP': 1, 'Glock': 1}</td>\n",
       "    </tr>\n",
       "    <tr>\n",
       "      <th>76561198223006752</th>\n",
       "      <td>{'USP': 1}</td>\n",
       "    </tr>\n",
       "    <tr>\n",
       "      <th>003201673717864202280_0171883906.dem 10</th>\n",
       "      <th>76561198051106390</th>\n",
       "      <td>{'AK47': 1}</td>\n",
       "    </tr>\n",
       "    <tr>\n",
       "      <th>...</th>\n",
       "      <th>...</th>\n",
       "      <td>...</td>\n",
       "    </tr>\n",
       "    <tr>\n",
       "      <th>003235042038193848574_1296145074.dem 8</th>\n",
       "      <th>76561198149968597</th>\n",
       "      <td>{'M4A4': 1}</td>\n",
       "    </tr>\n",
       "    <tr>\n",
       "      <th rowspan=\"4\" valign=\"top\">003235042038193848574_1296145074.dem 9</th>\n",
       "      <th>76561197961424834</th>\n",
       "      <td>{'AWP': 1}</td>\n",
       "    </tr>\n",
       "    <tr>\n",
       "      <th>76561198049795311</th>\n",
       "      <td>{'M4A4': 1}</td>\n",
       "    </tr>\n",
       "    <tr>\n",
       "      <th>76561198146367401</th>\n",
       "      <td>{'AK47': 1}</td>\n",
       "    </tr>\n",
       "    <tr>\n",
       "      <th>76561198149968597</th>\n",
       "      <td>{'M4A4': 1}</td>\n",
       "    </tr>\n",
       "  </tbody>\n",
       "</table>\n",
       "<p>116083 rows × 1 columns</p>\n",
       "</div>"
      ],
      "text/plain": [
       "                                                                               wp\n",
       "round_id                                att_id                                   \n",
       "003201673717864202280_0171883906.dem 1  76561198051106390            {'P2000': 1}\n",
       "                                        76561198081341202              {'USP': 1}\n",
       "                                        76561198085893650  {'USP': 1, 'Glock': 1}\n",
       "                                        76561198223006752              {'USP': 1}\n",
       "003201673717864202280_0171883906.dem 10 76561198051106390             {'AK47': 1}\n",
       "...                                                                           ...\n",
       "003235042038193848574_1296145074.dem 8  76561198149968597             {'M4A4': 1}\n",
       "003235042038193848574_1296145074.dem 9  76561197961424834              {'AWP': 1}\n",
       "                                        76561198049795311             {'M4A4': 1}\n",
       "                                        76561198146367401             {'AK47': 1}\n",
       "                                        76561198149968597             {'M4A4': 1}\n",
       "\n",
       "[116083 rows x 1 columns]"
      ]
     },
     "metadata": {},
     "output_type": "display_data"
    }
   ],
   "source": [
    "def count_weapons(series):\n",
    "    c = Counter()\n",
    "    # Count only one of each weapon per player\n",
    "    for i in series:\n",
    "        c[i] = 1\n",
    "    return c\n",
    "\n",
    "temp = df_team1.groupby(['round_id', 'att_id']).agg({'wp': count_weapons})\n",
    "display(temp)"
   ]
  },
  {
   "cell_type": "markdown",
   "metadata": {},
   "source": [
    "Now we can combine the counts of the individual players to get a weapons list for the entire team."
   ]
  },
  {
   "cell_type": "code",
   "execution_count": 537,
   "metadata": {},
   "outputs": [
    {
     "data": {
      "text/html": [
       "<div>\n",
       "<style scoped>\n",
       "    .dataframe tbody tr th:only-of-type {\n",
       "        vertical-align: middle;\n",
       "    }\n",
       "\n",
       "    .dataframe tbody tr th {\n",
       "        vertical-align: top;\n",
       "    }\n",
       "\n",
       "    .dataframe thead th {\n",
       "        text-align: right;\n",
       "    }\n",
       "</style>\n",
       "<table border=\"1\" class=\"dataframe\">\n",
       "  <thead>\n",
       "    <tr style=\"text-align: right;\">\n",
       "      <th></th>\n",
       "      <th>wp</th>\n",
       "    </tr>\n",
       "    <tr>\n",
       "      <th>round_id</th>\n",
       "      <th></th>\n",
       "    </tr>\n",
       "  </thead>\n",
       "  <tbody>\n",
       "    <tr>\n",
       "      <th>003201673717864202280_0171883906.dem 1</th>\n",
       "      <td>{'P2000': 1, 'USP': 3, 'Glock': 1}</td>\n",
       "    </tr>\n",
       "    <tr>\n",
       "      <th>003201673717864202280_0171883906.dem 10</th>\n",
       "      <td>{'AK47': 1, 'M4A1': 1, 'AWP': 1}</td>\n",
       "    </tr>\n",
       "    <tr>\n",
       "      <th>003201673717864202280_0171883906.dem 11</th>\n",
       "      <td>{'HE': 1, 'AK47': 2, 'Deagle': 1, 'M4A1': 1}</td>\n",
       "    </tr>\n",
       "    <tr>\n",
       "      <th>003201673717864202280_0171883906.dem 12</th>\n",
       "      <td>{'M4A1': 1, 'AWP': 2}</td>\n",
       "    </tr>\n",
       "    <tr>\n",
       "      <th>003201673717864202280_0171883906.dem 13</th>\n",
       "      <td>{'AWP': 2}</td>\n",
       "    </tr>\n",
       "    <tr>\n",
       "      <th>...</th>\n",
       "      <td>...</td>\n",
       "    </tr>\n",
       "    <tr>\n",
       "      <th>003235042038193848574_1296145074.dem 5</th>\n",
       "      <td>{'Famas': 1, 'Swag7': 1, 'XM1014': 1, 'MP9': 1...</td>\n",
       "    </tr>\n",
       "    <tr>\n",
       "      <th>003235042038193848574_1296145074.dem 6</th>\n",
       "      <td>{'Famas': 1, 'UMP': 1, 'XM1014': 1, 'M4A4': 2}</td>\n",
       "    </tr>\n",
       "    <tr>\n",
       "      <th>003235042038193848574_1296145074.dem 7</th>\n",
       "      <td>{'Swag7': 1, 'HE': 1, 'AK47': 1, 'M4A4': 1}</td>\n",
       "    </tr>\n",
       "    <tr>\n",
       "      <th>003235042038193848574_1296145074.dem 8</th>\n",
       "      <td>{'HE': 2, 'XM1014': 1, 'AK47': 1, 'M4A4': 1}</td>\n",
       "    </tr>\n",
       "    <tr>\n",
       "      <th>003235042038193848574_1296145074.dem 9</th>\n",
       "      <td>{'AWP': 1, 'M4A4': 2, 'AK47': 1}</td>\n",
       "    </tr>\n",
       "  </tbody>\n",
       "</table>\n",
       "<p>31591 rows × 1 columns</p>\n",
       "</div>"
      ],
      "text/plain": [
       "                                                                                        wp\n",
       "round_id                                                                                  \n",
       "003201673717864202280_0171883906.dem 1                  {'P2000': 1, 'USP': 3, 'Glock': 1}\n",
       "003201673717864202280_0171883906.dem 10                   {'AK47': 1, 'M4A1': 1, 'AWP': 1}\n",
       "003201673717864202280_0171883906.dem 11       {'HE': 1, 'AK47': 2, 'Deagle': 1, 'M4A1': 1}\n",
       "003201673717864202280_0171883906.dem 12                              {'M4A1': 1, 'AWP': 2}\n",
       "003201673717864202280_0171883906.dem 13                                         {'AWP': 2}\n",
       "...                                                                                    ...\n",
       "003235042038193848574_1296145074.dem 5   {'Famas': 1, 'Swag7': 1, 'XM1014': 1, 'MP9': 1...\n",
       "003235042038193848574_1296145074.dem 6      {'Famas': 1, 'UMP': 1, 'XM1014': 1, 'M4A4': 2}\n",
       "003235042038193848574_1296145074.dem 7         {'Swag7': 1, 'HE': 1, 'AK47': 1, 'M4A4': 1}\n",
       "003235042038193848574_1296145074.dem 8        {'HE': 2, 'XM1014': 1, 'AK47': 1, 'M4A4': 1}\n",
       "003235042038193848574_1296145074.dem 9                    {'AWP': 1, 'M4A4': 2, 'AK47': 1}\n",
       "\n",
       "[31591 rows x 1 columns]"
      ]
     },
     "metadata": {},
     "output_type": "display_data"
    }
   ],
   "source": [
    "def combine_weapons(series):\n",
    "    # Combine two dictionaries of weapon counts together\n",
    "    return reduce(lambda x, y: x + y, series)\n",
    "\n",
    "df_weapons1 = temp.reset_index().groupby('round_id').agg({'wp': combine_weapons})\n",
    "display(df_weapons1)"
   ]
  },
  {
   "cell_type": "markdown",
   "metadata": {},
   "source": [
    "Don't forget to do it for Team 2 as well!"
   ]
  },
  {
   "cell_type": "code",
   "execution_count": 538,
   "metadata": {},
   "outputs": [
    {
     "data": {
      "text/html": [
       "<div>\n",
       "<style scoped>\n",
       "    .dataframe tbody tr th:only-of-type {\n",
       "        vertical-align: middle;\n",
       "    }\n",
       "\n",
       "    .dataframe tbody tr th {\n",
       "        vertical-align: top;\n",
       "    }\n",
       "\n",
       "    .dataframe thead th {\n",
       "        text-align: right;\n",
       "    }\n",
       "</style>\n",
       "<table border=\"1\" class=\"dataframe\">\n",
       "  <thead>\n",
       "    <tr style=\"text-align: right;\">\n",
       "      <th></th>\n",
       "      <th>wp</th>\n",
       "    </tr>\n",
       "    <tr>\n",
       "      <th>round_id</th>\n",
       "      <th></th>\n",
       "    </tr>\n",
       "  </thead>\n",
       "  <tbody>\n",
       "    <tr>\n",
       "      <th>003201673717864202280_0171883906.dem 1</th>\n",
       "      <td>{'Glock': 3, 'HE': 1}</td>\n",
       "    </tr>\n",
       "    <tr>\n",
       "      <th>003201673717864202280_0171883906.dem 10</th>\n",
       "      <td>{'Tec9': 1, 'AK47': 1}</td>\n",
       "    </tr>\n",
       "    <tr>\n",
       "      <th>003201673717864202280_0171883906.dem 11</th>\n",
       "      <td>{'Tec9': 1, 'Glock': 1, 'Deagle': 1, 'P250': 1...</td>\n",
       "    </tr>\n",
       "    <tr>\n",
       "      <th>003201673717864202280_0171883906.dem 12</th>\n",
       "      <td>{'AWP': 3, 'Deagle': 1, 'Scout': 1, 'M4A1': 1}</td>\n",
       "    </tr>\n",
       "    <tr>\n",
       "      <th>003201673717864202280_0171883906.dem 13</th>\n",
       "      <td>{'AWP': 1, 'AK47': 1}</td>\n",
       "    </tr>\n",
       "    <tr>\n",
       "      <th>...</th>\n",
       "      <td>...</td>\n",
       "    </tr>\n",
       "    <tr>\n",
       "      <th>003235042038193848574_1296145074.dem 5</th>\n",
       "      <td>{'SG556': 1, 'HE': 1, 'AK47': 2}</td>\n",
       "    </tr>\n",
       "    <tr>\n",
       "      <th>003235042038193848574_1296145074.dem 6</th>\n",
       "      <td>{'P90': 1, 'Gallil': 1, 'AK47': 2}</td>\n",
       "    </tr>\n",
       "    <tr>\n",
       "      <th>003235042038193848574_1296145074.dem 7</th>\n",
       "      <td>{'HE': 1, 'P250': 1}</td>\n",
       "    </tr>\n",
       "    <tr>\n",
       "      <th>003235042038193848574_1296145074.dem 8</th>\n",
       "      <td>{'MP7': 1, 'CZ': 1, 'HE': 1, 'AK47': 1}</td>\n",
       "    </tr>\n",
       "    <tr>\n",
       "      <th>003235042038193848574_1296145074.dem 9</th>\n",
       "      <td>{'AK47': 3, 'XM1014': 1}</td>\n",
       "    </tr>\n",
       "  </tbody>\n",
       "</table>\n",
       "<p>31365 rows × 1 columns</p>\n",
       "</div>"
      ],
      "text/plain": [
       "                                                                                        wp\n",
       "round_id                                                                                  \n",
       "003201673717864202280_0171883906.dem 1                               {'Glock': 3, 'HE': 1}\n",
       "003201673717864202280_0171883906.dem 10                             {'Tec9': 1, 'AK47': 1}\n",
       "003201673717864202280_0171883906.dem 11  {'Tec9': 1, 'Glock': 1, 'Deagle': 1, 'P250': 1...\n",
       "003201673717864202280_0171883906.dem 12     {'AWP': 3, 'Deagle': 1, 'Scout': 1, 'M4A1': 1}\n",
       "003201673717864202280_0171883906.dem 13                              {'AWP': 1, 'AK47': 1}\n",
       "...                                                                                    ...\n",
       "003235042038193848574_1296145074.dem 5                    {'SG556': 1, 'HE': 1, 'AK47': 2}\n",
       "003235042038193848574_1296145074.dem 6                  {'P90': 1, 'Gallil': 1, 'AK47': 2}\n",
       "003235042038193848574_1296145074.dem 7                                {'HE': 1, 'P250': 1}\n",
       "003235042038193848574_1296145074.dem 8             {'MP7': 1, 'CZ': 1, 'HE': 1, 'AK47': 1}\n",
       "003235042038193848574_1296145074.dem 9                            {'AK47': 3, 'XM1014': 1}\n",
       "\n",
       "[31365 rows x 1 columns]"
      ]
     },
     "metadata": {},
     "output_type": "display_data"
    }
   ],
   "source": [
    "temp = df_team2.groupby(['round_id', 'att_id']).agg({'wp': count_weapons})\n",
    "df_weapons2 = temp.reset_index().groupby('round_id').agg({'wp': combine_weapons})\n",
    "display(df_weapons2)\n",
    "df_weapons1.columns = ['Team_1_Weapons']\n",
    "df_weapons2.columns = ['Team_2_Weapons']"
   ]
  },
  {
   "cell_type": "markdown",
   "metadata": {},
   "source": [
    "Just for good measure, we're also going to apply this idea to weapon types (i.e. is the player using a pistol or a rifle). This can be used later for more general trends compared to individual weapons."
   ]
  },
  {
   "cell_type": "code",
   "execution_count": 539,
   "metadata": {},
   "outputs": [
    {
     "data": {
      "text/html": [
       "<div>\n",
       "<style scoped>\n",
       "    .dataframe tbody tr th:only-of-type {\n",
       "        vertical-align: middle;\n",
       "    }\n",
       "\n",
       "    .dataframe tbody tr th {\n",
       "        vertical-align: top;\n",
       "    }\n",
       "\n",
       "    .dataframe thead th {\n",
       "        text-align: right;\n",
       "    }\n",
       "</style>\n",
       "<table border=\"1\" class=\"dataframe\">\n",
       "  <thead>\n",
       "    <tr style=\"text-align: right;\">\n",
       "      <th></th>\n",
       "      <th></th>\n",
       "      <th>wp_type</th>\n",
       "    </tr>\n",
       "    <tr>\n",
       "      <th>round_id</th>\n",
       "      <th>att_id</th>\n",
       "      <th></th>\n",
       "    </tr>\n",
       "  </thead>\n",
       "  <tbody>\n",
       "    <tr>\n",
       "      <th rowspan=\"4\" valign=\"top\">003201673717864202280_0171883906.dem 1</th>\n",
       "      <th>76561198051106390</th>\n",
       "      <td>{'Pistol': 1}</td>\n",
       "    </tr>\n",
       "    <tr>\n",
       "      <th>76561198081341202</th>\n",
       "      <td>{'Pistol': 1}</td>\n",
       "    </tr>\n",
       "    <tr>\n",
       "      <th>76561198085893650</th>\n",
       "      <td>{'Pistol': 1}</td>\n",
       "    </tr>\n",
       "    <tr>\n",
       "      <th>76561198223006752</th>\n",
       "      <td>{'Pistol': 1}</td>\n",
       "    </tr>\n",
       "    <tr>\n",
       "      <th>003201673717864202280_0171883906.dem 10</th>\n",
       "      <th>76561198051106390</th>\n",
       "      <td>{'Rifle': 1}</td>\n",
       "    </tr>\n",
       "    <tr>\n",
       "      <th>...</th>\n",
       "      <th>...</th>\n",
       "      <td>...</td>\n",
       "    </tr>\n",
       "    <tr>\n",
       "      <th>003235042038193848574_1296145074.dem 8</th>\n",
       "      <th>76561198149968597</th>\n",
       "      <td>{'Rifle': 1}</td>\n",
       "    </tr>\n",
       "    <tr>\n",
       "      <th rowspan=\"4\" valign=\"top\">003235042038193848574_1296145074.dem 9</th>\n",
       "      <th>76561197961424834</th>\n",
       "      <td>{'Sniper': 1}</td>\n",
       "    </tr>\n",
       "    <tr>\n",
       "      <th>76561198049795311</th>\n",
       "      <td>{'Rifle': 1}</td>\n",
       "    </tr>\n",
       "    <tr>\n",
       "      <th>76561198146367401</th>\n",
       "      <td>{'Rifle': 1}</td>\n",
       "    </tr>\n",
       "    <tr>\n",
       "      <th>76561198149968597</th>\n",
       "      <td>{'Rifle': 1}</td>\n",
       "    </tr>\n",
       "  </tbody>\n",
       "</table>\n",
       "<p>116083 rows × 1 columns</p>\n",
       "</div>"
      ],
      "text/plain": [
       "                                                                 wp_type\n",
       "round_id                                att_id                          \n",
       "003201673717864202280_0171883906.dem 1  76561198051106390  {'Pistol': 1}\n",
       "                                        76561198081341202  {'Pistol': 1}\n",
       "                                        76561198085893650  {'Pistol': 1}\n",
       "                                        76561198223006752  {'Pistol': 1}\n",
       "003201673717864202280_0171883906.dem 10 76561198051106390   {'Rifle': 1}\n",
       "...                                                                  ...\n",
       "003235042038193848574_1296145074.dem 8  76561198149968597   {'Rifle': 1}\n",
       "003235042038193848574_1296145074.dem 9  76561197961424834  {'Sniper': 1}\n",
       "                                        76561198049795311   {'Rifle': 1}\n",
       "                                        76561198146367401   {'Rifle': 1}\n",
       "                                        76561198149968597   {'Rifle': 1}\n",
       "\n",
       "[116083 rows x 1 columns]"
      ]
     },
     "metadata": {},
     "output_type": "display_data"
    }
   ],
   "source": [
    "temp = df_team1.groupby(['round_id', 'att_id']).agg({'wp_type': count_weapons})\n",
    "display(temp)"
   ]
  },
  {
   "cell_type": "code",
   "execution_count": 540,
   "metadata": {},
   "outputs": [
    {
     "data": {
      "text/html": [
       "<div>\n",
       "<style scoped>\n",
       "    .dataframe tbody tr th:only-of-type {\n",
       "        vertical-align: middle;\n",
       "    }\n",
       "\n",
       "    .dataframe tbody tr th {\n",
       "        vertical-align: top;\n",
       "    }\n",
       "\n",
       "    .dataframe thead th {\n",
       "        text-align: right;\n",
       "    }\n",
       "</style>\n",
       "<table border=\"1\" class=\"dataframe\">\n",
       "  <thead>\n",
       "    <tr style=\"text-align: right;\">\n",
       "      <th></th>\n",
       "      <th>Team_1_Weapon_Types</th>\n",
       "    </tr>\n",
       "    <tr>\n",
       "      <th>round_id</th>\n",
       "      <th></th>\n",
       "    </tr>\n",
       "  </thead>\n",
       "  <tbody>\n",
       "    <tr>\n",
       "      <th>003201673717864202280_0171883906.dem 1</th>\n",
       "      <td>{'Pistol': 4}</td>\n",
       "    </tr>\n",
       "    <tr>\n",
       "      <th>003201673717864202280_0171883906.dem 10</th>\n",
       "      <td>{'Rifle': 2, 'Sniper': 1}</td>\n",
       "    </tr>\n",
       "    <tr>\n",
       "      <th>003201673717864202280_0171883906.dem 11</th>\n",
       "      <td>{'Grenade': 1, 'Rifle': 3, 'Pistol': 1}</td>\n",
       "    </tr>\n",
       "    <tr>\n",
       "      <th>003201673717864202280_0171883906.dem 12</th>\n",
       "      <td>{'Rifle': 1, 'Sniper': 2}</td>\n",
       "    </tr>\n",
       "    <tr>\n",
       "      <th>003201673717864202280_0171883906.dem 13</th>\n",
       "      <td>{'Sniper': 2}</td>\n",
       "    </tr>\n",
       "    <tr>\n",
       "      <th>...</th>\n",
       "      <td>...</td>\n",
       "    </tr>\n",
       "    <tr>\n",
       "      <th>003235042038193848574_1296145074.dem 5</th>\n",
       "      <td>{'Rifle': 3, 'Heavy': 2, 'SMG': 1}</td>\n",
       "    </tr>\n",
       "    <tr>\n",
       "      <th>003235042038193848574_1296145074.dem 6</th>\n",
       "      <td>{'Rifle': 3, 'SMG': 1, 'Heavy': 1}</td>\n",
       "    </tr>\n",
       "    <tr>\n",
       "      <th>003235042038193848574_1296145074.dem 7</th>\n",
       "      <td>{'Heavy': 1, 'Grenade': 1, 'Rifle': 2}</td>\n",
       "    </tr>\n",
       "    <tr>\n",
       "      <th>003235042038193848574_1296145074.dem 8</th>\n",
       "      <td>{'Grenade': 2, 'Heavy': 1, 'Rifle': 2}</td>\n",
       "    </tr>\n",
       "    <tr>\n",
       "      <th>003235042038193848574_1296145074.dem 9</th>\n",
       "      <td>{'Sniper': 1, 'Rifle': 3}</td>\n",
       "    </tr>\n",
       "  </tbody>\n",
       "</table>\n",
       "<p>31591 rows × 1 columns</p>\n",
       "</div>"
      ],
      "text/plain": [
       "                                                             Team_1_Weapon_Types\n",
       "round_id                                                                        \n",
       "003201673717864202280_0171883906.dem 1                             {'Pistol': 4}\n",
       "003201673717864202280_0171883906.dem 10                {'Rifle': 2, 'Sniper': 1}\n",
       "003201673717864202280_0171883906.dem 11  {'Grenade': 1, 'Rifle': 3, 'Pistol': 1}\n",
       "003201673717864202280_0171883906.dem 12                {'Rifle': 1, 'Sniper': 2}\n",
       "003201673717864202280_0171883906.dem 13                            {'Sniper': 2}\n",
       "...                                                                          ...\n",
       "003235042038193848574_1296145074.dem 5        {'Rifle': 3, 'Heavy': 2, 'SMG': 1}\n",
       "003235042038193848574_1296145074.dem 6        {'Rifle': 3, 'SMG': 1, 'Heavy': 1}\n",
       "003235042038193848574_1296145074.dem 7    {'Heavy': 1, 'Grenade': 1, 'Rifle': 2}\n",
       "003235042038193848574_1296145074.dem 8    {'Grenade': 2, 'Heavy': 1, 'Rifle': 2}\n",
       "003235042038193848574_1296145074.dem 9                 {'Sniper': 1, 'Rifle': 3}\n",
       "\n",
       "[31591 rows x 1 columns]"
      ]
     },
     "metadata": {},
     "output_type": "display_data"
    }
   ],
   "source": [
    "df_wptype1 = temp.reset_index().groupby('round_id').agg({'wp_type': combine_weapons})\n",
    "\n",
    "\n",
    "temp = df_team2.groupby(['round_id', 'att_id']).agg({'wp_type': count_weapons})\n",
    "df_wptype2 = temp.reset_index().groupby('round_id').agg({'wp_type': combine_weapons})\n",
    "\n",
    "df_wptype1.columns = ['Team_1_Weapon_Types']\n",
    "df_wptype2.columns = ['Team_2_Weapon_Types']\n",
    "display(df_wptype1)"
   ]
  },
  {
   "cell_type": "markdown",
   "metadata": {},
   "source": [
    "### Headshot Percentage\n",
    "\n",
    "Next we're going to try to get a headshot percentage to see if that impacts winrate. This will be used as a metric to measure \"mechanical skill\". In this case, headshots will be a proxy for \"mechanical skill\". In CS:GO, shooting enemies in the head does more damage compared to other bodyparts. As a result, it would be reasonable to assume that players with high mechanical skill would go for headshots to gain a competitive edge. Thus, high headshot percentage would be correlated with high mechanical skill."
   ]
  },
  {
   "cell_type": "code",
   "execution_count": 541,
   "metadata": {},
   "outputs": [
    {
     "data": {
      "text/plain": [
       "array(['Head', 'RightLeg', 'Chest', 'Stomach', 'RightArm', 'LeftLeg',\n",
       "       'LeftArm', 'Generic'], dtype=object)"
      ]
     },
     "execution_count": 541,
     "metadata": {},
     "output_type": "execute_result"
    }
   ],
   "source": [
    "df_team1['hitbox'].unique()"
   ]
  },
  {
   "cell_type": "markdown",
   "metadata": {},
   "source": [
    "Notice that one of the options is generic, which represents general damage like grenades. Since this isn't damage caused by aiming, we will ignore these when calculating our headshot percentage."
   ]
  },
  {
   "cell_type": "code",
   "execution_count": 542,
   "metadata": {
    "scrolled": false
   },
   "outputs": [
    {
     "data": {
      "text/html": [
       "<div>\n",
       "<style scoped>\n",
       "    .dataframe tbody tr th:only-of-type {\n",
       "        vertical-align: middle;\n",
       "    }\n",
       "\n",
       "    .dataframe tbody tr th {\n",
       "        vertical-align: top;\n",
       "    }\n",
       "\n",
       "    .dataframe thead th {\n",
       "        text-align: right;\n",
       "    }\n",
       "</style>\n",
       "<table border=\"1\" class=\"dataframe\">\n",
       "  <thead>\n",
       "    <tr style=\"text-align: right;\">\n",
       "      <th></th>\n",
       "      <th>Team_1_hs_percentage</th>\n",
       "    </tr>\n",
       "    <tr>\n",
       "      <th>round_id</th>\n",
       "      <th></th>\n",
       "    </tr>\n",
       "  </thead>\n",
       "  <tbody>\n",
       "    <tr>\n",
       "      <th>003201673717864202280_0171883906.dem 1</th>\n",
       "      <td>0.200000</td>\n",
       "    </tr>\n",
       "    <tr>\n",
       "      <th>003201673717864202280_0171883906.dem 10</th>\n",
       "      <td>0.300000</td>\n",
       "    </tr>\n",
       "    <tr>\n",
       "      <th>003201673717864202280_0171883906.dem 11</th>\n",
       "      <td>0.272727</td>\n",
       "    </tr>\n",
       "    <tr>\n",
       "      <th>003201673717864202280_0171883906.dem 12</th>\n",
       "      <td>0.250000</td>\n",
       "    </tr>\n",
       "    <tr>\n",
       "      <th>003201673717864202280_0171883906.dem 13</th>\n",
       "      <td>0.400000</td>\n",
       "    </tr>\n",
       "    <tr>\n",
       "      <th>...</th>\n",
       "      <td>...</td>\n",
       "    </tr>\n",
       "    <tr>\n",
       "      <th>003235042038193848574_1296145074.dem 5</th>\n",
       "      <td>0.071429</td>\n",
       "    </tr>\n",
       "    <tr>\n",
       "      <th>003235042038193848574_1296145074.dem 6</th>\n",
       "      <td>0.037037</td>\n",
       "    </tr>\n",
       "    <tr>\n",
       "      <th>003235042038193848574_1296145074.dem 7</th>\n",
       "      <td>0.142857</td>\n",
       "    </tr>\n",
       "    <tr>\n",
       "      <th>003235042038193848574_1296145074.dem 8</th>\n",
       "      <td>0.055556</td>\n",
       "    </tr>\n",
       "    <tr>\n",
       "      <th>003235042038193848574_1296145074.dem 9</th>\n",
       "      <td>0.071429</td>\n",
       "    </tr>\n",
       "  </tbody>\n",
       "</table>\n",
       "<p>31591 rows × 1 columns</p>\n",
       "</div>"
      ],
      "text/plain": [
       "                                         Team_1_hs_percentage\n",
       "round_id                                                     \n",
       "003201673717864202280_0171883906.dem 1               0.200000\n",
       "003201673717864202280_0171883906.dem 10              0.300000\n",
       "003201673717864202280_0171883906.dem 11              0.272727\n",
       "003201673717864202280_0171883906.dem 12              0.250000\n",
       "003201673717864202280_0171883906.dem 13              0.400000\n",
       "...                                                       ...\n",
       "003235042038193848574_1296145074.dem 5               0.071429\n",
       "003235042038193848574_1296145074.dem 6               0.037037\n",
       "003235042038193848574_1296145074.dem 7               0.142857\n",
       "003235042038193848574_1296145074.dem 8               0.055556\n",
       "003235042038193848574_1296145074.dem 9               0.071429\n",
       "\n",
       "[31591 rows x 1 columns]"
      ]
     },
     "metadata": {},
     "output_type": "display_data"
    }
   ],
   "source": [
    "# aggregation function for calculating headshot percentage\n",
    "\n",
    "def hs_percentage(series):\n",
    "    hs = 0\n",
    "    total = 0\n",
    "    for i in series:\n",
    "        if i == 'Head':\n",
    "            hs += 1\n",
    "        if i != 'Generic':\n",
    "            total += 1\n",
    "    if total != 0:\n",
    "        return hs/total\n",
    "    else:\n",
    "        return 0\n",
    "\n",
    "df_hs1 = df_team1.groupby('round_id').agg({'hitbox': hs_percentage})\n",
    "df_hs2 = df_team2.groupby('round_id').agg({'hitbox': hs_percentage})\n",
    "\n",
    "df_hs1.columns = ['Team_1_hs_percentage']\n",
    "df_hs2.columns = ['Team_2_hs_percentage']\n",
    "\n",
    "display(df_hs1)"
   ]
  },
  {
   "cell_type": "markdown",
   "metadata": {},
   "source": [
    "### Equipment Value\n",
    "\n",
    "Following from before, we now want to see if having more money (buying more expensive equipment) leads to winning more rounds. To do this, we'll need to select the correct money data for each team. Since the data only has money listed for the CT or T side, we need to correctly identify if the team we're looking at is CT or T."
   ]
  },
  {
   "cell_type": "code",
   "execution_count": 543,
   "metadata": {},
   "outputs": [
    {
     "data": {
      "text/html": [
       "<div>\n",
       "<style scoped>\n",
       "    .dataframe tbody tr th:only-of-type {\n",
       "        vertical-align: middle;\n",
       "    }\n",
       "\n",
       "    .dataframe tbody tr th {\n",
       "        vertical-align: top;\n",
       "    }\n",
       "\n",
       "    .dataframe thead th {\n",
       "        text-align: right;\n",
       "    }\n",
       "</style>\n",
       "<table border=\"1\" class=\"dataframe\">\n",
       "  <thead>\n",
       "    <tr style=\"text-align: right;\">\n",
       "      <th></th>\n",
       "      <th>Team_1_Cost</th>\n",
       "    </tr>\n",
       "    <tr>\n",
       "      <th>round_id</th>\n",
       "      <th></th>\n",
       "    </tr>\n",
       "  </thead>\n",
       "  <tbody>\n",
       "    <tr>\n",
       "      <th>003201673717864202280_0171883906.dem 1</th>\n",
       "      <td>2950</td>\n",
       "    </tr>\n",
       "    <tr>\n",
       "      <th>003201673717864202280_0171883906.dem 2</th>\n",
       "      <td>12400</td>\n",
       "    </tr>\n",
       "    <tr>\n",
       "      <th>003201673717864202280_0171883906.dem 3</th>\n",
       "      <td>4700</td>\n",
       "    </tr>\n",
       "    <tr>\n",
       "      <th>003201673717864202280_0171883906.dem 4</th>\n",
       "      <td>9200</td>\n",
       "    </tr>\n",
       "    <tr>\n",
       "      <th>003201673717864202280_0171883906.dem 5</th>\n",
       "      <td>10700</td>\n",
       "    </tr>\n",
       "  </tbody>\n",
       "</table>\n",
       "</div>"
      ],
      "text/plain": [
       "                                        Team_1_Cost\n",
       "round_id                                           \n",
       "003201673717864202280_0171883906.dem 1         2950\n",
       "003201673717864202280_0171883906.dem 2        12400\n",
       "003201673717864202280_0171883906.dem 3         4700\n",
       "003201673717864202280_0171883906.dem 4         9200\n",
       "003201673717864202280_0171883906.dem 5        10700"
      ]
     },
     "metadata": {},
     "output_type": "display_data"
    }
   ],
   "source": [
    "df_cost1 = df_team1.drop_duplicates('round_id')[['round_id', 'att_side', 'ct_eq_val', 't_eq_val']]\n",
    "df_cost2 = df_team2.drop_duplicates('round_id')[['round_id', 'att_side', 'ct_eq_val', 't_eq_val']]\n",
    "\n",
    "def pick_cost(row):\n",
    "    if row['att_side'] == 'CounterTerrorist':\n",
    "        return row['ct_eq_val']\n",
    "    else:\n",
    "        return row['t_eq_val']\n",
    "    \n",
    "df_cost1['Team_1_Cost'] = df_cost1.apply(pick_cost, axis=1)\n",
    "df_cost2['Team_2_Cost'] = df_cost2.apply(pick_cost, axis=1)\n",
    "\n",
    "df_cost1 = df_cost1[['round_id', 'Team_1_Cost']]\n",
    "df_cost2 = df_cost2[['round_id', 'Team_2_Cost']]\n",
    "\n",
    "df_cost1 = df_cost1.set_index('round_id')\n",
    "df_cost2 = df_cost2.set_index('round_id')\n",
    "\n",
    "display(df_cost1.head())"
   ]
  },
  {
   "cell_type": "markdown",
   "metadata": {},
   "source": [
    "### Grenades\n",
    "\n",
    "We also want to look at the tactical use of grenades. In CS:GO you can also choose to purchase grenades at the start of each round. Besides the normal explosive grenade that damages players nearby, there are also smoke grenades which can deny vision to important areas of the map, and flash grenades which can be used to temporarily blind enemy players as an opening. The use of grenades (especially smokes) is a very important gameplay mechanic to CS:GO, so this is another area that we would to explore."
   ]
  },
  {
   "cell_type": "code",
   "execution_count": 544,
   "metadata": {},
   "outputs": [
    {
     "data": {
      "text/html": [
       "<div>\n",
       "<style scoped>\n",
       "    .dataframe tbody tr th:only-of-type {\n",
       "        vertical-align: middle;\n",
       "    }\n",
       "\n",
       "    .dataframe tbody tr th {\n",
       "        vertical-align: top;\n",
       "    }\n",
       "\n",
       "    .dataframe thead th {\n",
       "        text-align: right;\n",
       "    }\n",
       "</style>\n",
       "<table border=\"1\" class=\"dataframe\">\n",
       "  <thead>\n",
       "    <tr style=\"text-align: right;\">\n",
       "      <th></th>\n",
       "      <th>Team_1_Nades</th>\n",
       "    </tr>\n",
       "    <tr>\n",
       "      <th>round_id</th>\n",
       "      <th></th>\n",
       "    </tr>\n",
       "  </thead>\n",
       "  <tbody>\n",
       "    <tr>\n",
       "      <th>003201673717864202280_0171883906.dem 10</th>\n",
       "      <td>{'Smoke': 1, 'HE': 2, 'Flash': 1}</td>\n",
       "    </tr>\n",
       "    <tr>\n",
       "      <th>003201673717864202280_0171883906.dem 11</th>\n",
       "      <td>{'Smoke': 1, 'HE': 3}</td>\n",
       "    </tr>\n",
       "    <tr>\n",
       "      <th>003201673717864202280_0171883906.dem 12</th>\n",
       "      <td>{'Smoke': 2, 'HE': 2, 'Flash': 2}</td>\n",
       "    </tr>\n",
       "    <tr>\n",
       "      <th>003201673717864202280_0171883906.dem 13</th>\n",
       "      <td>{'Smoke': 1, 'HE': 1, 'Flash': 1}</td>\n",
       "    </tr>\n",
       "    <tr>\n",
       "      <th>003201673717864202280_0171883906.dem 14</th>\n",
       "      <td>{'Smoke': 1, 'Decoy': 1}</td>\n",
       "    </tr>\n",
       "  </tbody>\n",
       "</table>\n",
       "</div>"
      ],
      "text/plain": [
       "                                                              Team_1_Nades\n",
       "round_id                                                                  \n",
       "003201673717864202280_0171883906.dem 10  {'Smoke': 1, 'HE': 2, 'Flash': 1}\n",
       "003201673717864202280_0171883906.dem 11              {'Smoke': 1, 'HE': 3}\n",
       "003201673717864202280_0171883906.dem 12  {'Smoke': 2, 'HE': 2, 'Flash': 2}\n",
       "003201673717864202280_0171883906.dem 13  {'Smoke': 1, 'HE': 1, 'Flash': 1}\n",
       "003201673717864202280_0171883906.dem 14           {'Smoke': 1, 'Decoy': 1}"
      ]
     },
     "metadata": {},
     "output_type": "display_data"
    },
    {
     "data": {
      "text/html": [
       "<div>\n",
       "<style scoped>\n",
       "    .dataframe tbody tr th:only-of-type {\n",
       "        vertical-align: middle;\n",
       "    }\n",
       "\n",
       "    .dataframe tbody tr th {\n",
       "        vertical-align: top;\n",
       "    }\n",
       "\n",
       "    .dataframe thead th {\n",
       "        text-align: right;\n",
       "    }\n",
       "</style>\n",
       "<table border=\"1\" class=\"dataframe\">\n",
       "  <thead>\n",
       "    <tr style=\"text-align: right;\">\n",
       "      <th></th>\n",
       "      <th>Team_2_Nades</th>\n",
       "    </tr>\n",
       "    <tr>\n",
       "      <th>round_id</th>\n",
       "      <th></th>\n",
       "    </tr>\n",
       "  </thead>\n",
       "  <tbody>\n",
       "    <tr>\n",
       "      <th>003201673717864202280_0171883906.dem 1</th>\n",
       "      <td>{'Decoy': 2, 'HE': 1}</td>\n",
       "    </tr>\n",
       "    <tr>\n",
       "      <th>003201673717864202280_0171883906.dem 10</th>\n",
       "      <td>{'Smoke': 1, 'HE': 1, 'Flash': 2}</td>\n",
       "    </tr>\n",
       "    <tr>\n",
       "      <th>003201673717864202280_0171883906.dem 11</th>\n",
       "      <td>{'Flash': 1}</td>\n",
       "    </tr>\n",
       "    <tr>\n",
       "      <th>003201673717864202280_0171883906.dem 12</th>\n",
       "      <td>{'Smoke': 1, 'Decoy': 1, 'Flash': 4}</td>\n",
       "    </tr>\n",
       "    <tr>\n",
       "      <th>003201673717864202280_0171883906.dem 13</th>\n",
       "      <td>{'Flash': 4, 'Decoy': 1, 'Smoke': 2, 'HE': 1}</td>\n",
       "    </tr>\n",
       "  </tbody>\n",
       "</table>\n",
       "</div>"
      ],
      "text/plain": [
       "                                                                          Team_2_Nades\n",
       "round_id                                                                              \n",
       "003201673717864202280_0171883906.dem 1                           {'Decoy': 2, 'HE': 1}\n",
       "003201673717864202280_0171883906.dem 10              {'Smoke': 1, 'HE': 1, 'Flash': 2}\n",
       "003201673717864202280_0171883906.dem 11                                   {'Flash': 1}\n",
       "003201673717864202280_0171883906.dem 12           {'Smoke': 1, 'Decoy': 1, 'Flash': 4}\n",
       "003201673717864202280_0171883906.dem 13  {'Flash': 4, 'Decoy': 1, 'Smoke': 2, 'HE': 1}"
      ]
     },
     "metadata": {},
     "output_type": "display_data"
    }
   ],
   "source": [
    "# aggregation function for counting each type of grenade\n",
    "def count_nades(series):\n",
    "    c = Counter()\n",
    "    for i in series:\n",
    "        c[i] += 1\n",
    "    return c\n",
    "\n",
    "df_nadecounts1 = df_nades1.groupby('round_id').agg({'nade': count_nades})\n",
    "df_nadecounts2 = df_nades2.groupby('round_id').agg({'nade': count_nades})\n",
    "df_nadecounts1.columns = ['Team_1_Nades']\n",
    "df_nadecounts2.columns = ['Team_2_Nades']\n",
    "\n",
    "display(df_nadecounts1.head(5))\n",
    "display(df_nadecounts2.head(5))"
   ]
  },
  {
   "cell_type": "code",
   "execution_count": 545,
   "metadata": {},
   "outputs": [
    {
     "data": {
      "text/plain": [
       "array(['Decoy', 'HE', 'Smoke', 'Flash', 'Molotov', 'Incendiary'],\n",
       "      dtype=object)"
      ]
     },
     "execution_count": 545,
     "metadata": {},
     "output_type": "execute_result"
    }
   ],
   "source": [
    "df_nades['nade'].unique()"
   ]
  },
  {
   "cell_type": "markdown",
   "metadata": {},
   "source": [
    "### Data Merging\n",
    "\n",
    "Now we're ready to link everything together! Using our round_id from before, we should be able to just join everything together using the common round_id. Something to note here is that some round data is repeated multiple times (like the equipment value data). To preserve this data, we're just going to drop all duplicates except the first (since this will correspond to the start of the round). Then we'll join everything together afterwards."
   ]
  },
  {
   "cell_type": "code",
   "execution_count": 546,
   "metadata": {},
   "outputs": [],
   "source": [
    "df_merge = df.drop_duplicates('round_id')\n",
    "\n",
    "new_df = [df_cost1, df_cost2, df_hs1, df_hs2, df_weapons1, df_weapons2, df_wptype1, df_wptype2, \\\n",
    "          df_nadecounts1, df_nadecounts2]\n",
    "\n",
    "# For some reason python doesn't like looping so this is commented out\n",
    "#for i in new_df:\n",
    "#    df_merge = df_merge.join(i, on='round_id', how='left', rsuffix=\"_n\")\n",
    "\n",
    "df_merge = df_merge.join(df_cost1, on='round_id', how='left', rsuffix=\"_n\")\n",
    "df_merge = df_merge.join(df_cost2, on='round_id', how='left', rsuffix=\"_n\")\n",
    "df_merge = df_merge.join(df_hs1, on='round_id', how='left', rsuffix=\"_n\")\n",
    "df_merge = df_merge.join(df_hs2, on='round_id', how='left', rsuffix=\"_n\")\n",
    "df_merge = df_merge.join(df_weapons1, on='round_id', how='left', rsuffix=\"_n\")\n",
    "df_merge = df_merge.join(df_weapons2, on='round_id', how='left', rsuffix=\"_n\")\n",
    "df_merge = df_merge.join(df_wptype1, on='round_id', how='left', rsuffix=\"_n\")\n",
    "df_merge = df_merge.join(df_wptype2, on='round_id', how='left', rsuffix=\"_n\")\n",
    "df_merge = df_merge.join(df_nadecounts1, on='round_id', how='left', rsuffix=\"_n\")\n",
    "df_merge = df_merge.join(df_nadecounts2, on='round_id', how='left', rsuffix=\"_n\")"
   ]
  },
  {
   "cell_type": "markdown",
   "metadata": {},
   "source": [
    "We're also going to leave out the remaining columns that we didn't use."
   ]
  },
  {
   "cell_type": "code",
   "execution_count": 547,
   "metadata": {},
   "outputs": [],
   "source": [
    "df_merge = df_merge[['round_id', 'map', 'winner_team', 'winner_side', 'round_type', 'avg_match_rank', \\\n",
    "                     'Team_1_Weapons', 'Team_2_Weapons', 'Team_1_hs_percentage', 'Team_2_hs_percentage', \\\n",
    "                     'Team_1_Weapon_Types', 'Team_1_Weapon_Types', 'Team_1_Cost', 'Team_2_Cost', \\\n",
    "                     'Team_1_Nades', 'Team_2_Nades']]"
   ]
  },
  {
   "cell_type": "markdown",
   "metadata": {},
   "source": [
    "For convenience, we're also going to code our winning team as a dummy variable here. In this case, 1 represents that Team 1 won and 0 represents that Team 1 lost. This can be reversed for Team 2 since a loss for Team 1 is a win for Team 2."
   ]
  },
  {
   "cell_type": "code",
   "execution_count": 548,
   "metadata": {},
   "outputs": [
    {
     "data": {
      "text/html": [
       "<div>\n",
       "<style scoped>\n",
       "    .dataframe tbody tr th:only-of-type {\n",
       "        vertical-align: middle;\n",
       "    }\n",
       "\n",
       "    .dataframe tbody tr th {\n",
       "        vertical-align: top;\n",
       "    }\n",
       "\n",
       "    .dataframe thead th {\n",
       "        text-align: right;\n",
       "    }\n",
       "</style>\n",
       "<table border=\"1\" class=\"dataframe\">\n",
       "  <thead>\n",
       "    <tr style=\"text-align: right;\">\n",
       "      <th></th>\n",
       "      <th>round_id</th>\n",
       "      <th>map</th>\n",
       "      <th>winner_team</th>\n",
       "      <th>winner_side</th>\n",
       "      <th>round_type</th>\n",
       "      <th>avg_match_rank</th>\n",
       "      <th>Team_1_Weapons</th>\n",
       "      <th>Team_2_Weapons</th>\n",
       "      <th>Team_1_hs_percentage</th>\n",
       "      <th>Team_2_hs_percentage</th>\n",
       "      <th>Team_1_Weapon_Types</th>\n",
       "      <th>Team_1_Weapon_Types</th>\n",
       "      <th>Team_1_Cost</th>\n",
       "      <th>Team_2_Cost</th>\n",
       "      <th>Team_1_Nades</th>\n",
       "      <th>Team_2_Nades</th>\n",
       "      <th>winner_team_1</th>\n",
       "    </tr>\n",
       "  </thead>\n",
       "  <tbody>\n",
       "    <tr>\n",
       "      <th>0</th>\n",
       "      <td>003201673717864202280_0171883906.dem 1</td>\n",
       "      <td>de_dust2</td>\n",
       "      <td>Team 1</td>\n",
       "      <td>CounterTerrorist</td>\n",
       "      <td>PISTOL_ROUND</td>\n",
       "      <td>16.0</td>\n",
       "      <td>{'P2000': 1, 'USP': 3, 'Glock': 1}</td>\n",
       "      <td>{'Glock': 3, 'HE': 1}</td>\n",
       "      <td>0.200000</td>\n",
       "      <td>0.250000</td>\n",
       "      <td>{'Pistol': 4}</td>\n",
       "      <td>{'Pistol': 4}</td>\n",
       "      <td>2950.0</td>\n",
       "      <td>3850.0</td>\n",
       "      <td>NaN</td>\n",
       "      <td>{'Decoy': 2, 'HE': 1}</td>\n",
       "      <td>1</td>\n",
       "    </tr>\n",
       "    <tr>\n",
       "      <th>28</th>\n",
       "      <td>003201673717864202280_0171883906.dem 2</td>\n",
       "      <td>de_dust2</td>\n",
       "      <td>Team 2</td>\n",
       "      <td>Terrorist</td>\n",
       "      <td>ECO</td>\n",
       "      <td>16.0</td>\n",
       "      <td>{'UMP': 1, 'Deagle': 2, 'MP9': 1, 'Famas': 1}</td>\n",
       "      <td>{'Tec9': 2, 'UMP': 1, 'Deagle': 2, 'P250': 1}</td>\n",
       "      <td>0.222222</td>\n",
       "      <td>0.176471</td>\n",
       "      <td>{'SMG': 2, 'Pistol': 2, 'Rifle': 1}</td>\n",
       "      <td>{'SMG': 2, 'Pistol': 2, 'Rifle': 1}</td>\n",
       "      <td>12400.0</td>\n",
       "      <td>4700.0</td>\n",
       "      <td>{'Smoke': 1, 'HE': 1}</td>\n",
       "      <td>{'Smoke': 1, 'Flash': 1}</td>\n",
       "      <td>0</td>\n",
       "    </tr>\n",
       "    <tr>\n",
       "      <th>54</th>\n",
       "      <td>003201673717864202280_0171883906.dem 3</td>\n",
       "      <td>de_dust2</td>\n",
       "      <td>Team 2</td>\n",
       "      <td>Terrorist</td>\n",
       "      <td>ECO</td>\n",
       "      <td>16.0</td>\n",
       "      <td>{'P250': 1, 'Deagle': 2, 'USP': 2}</td>\n",
       "      <td>{'HE': 2, 'UMP': 1, 'Famas': 1, 'AK47': 2}</td>\n",
       "      <td>0.307692</td>\n",
       "      <td>0.153846</td>\n",
       "      <td>{'Pistol': 5}</td>\n",
       "      <td>{'Pistol': 5}</td>\n",
       "      <td>4700.0</td>\n",
       "      <td>21050.0</td>\n",
       "      <td>{'Flash': 1}</td>\n",
       "      <td>{'Smoke': 2, 'HE': 3, 'Flash': 3, 'Molotov': 1}</td>\n",
       "      <td>0</td>\n",
       "    </tr>\n",
       "    <tr>\n",
       "      <th>82</th>\n",
       "      <td>003201673717864202280_0171883906.dem 4</td>\n",
       "      <td>de_dust2</td>\n",
       "      <td>Team 2</td>\n",
       "      <td>Terrorist</td>\n",
       "      <td>SEMI_ECO</td>\n",
       "      <td>16.0</td>\n",
       "      <td>{'Deagle': 4}</td>\n",
       "      <td>{'HE': 2, 'UMP': 1, 'AK47': 2, 'AWP': 1, 'Deag...</td>\n",
       "      <td>0.428571</td>\n",
       "      <td>0.090909</td>\n",
       "      <td>{'Pistol': 4}</td>\n",
       "      <td>{'Pistol': 4}</td>\n",
       "      <td>9200.0</td>\n",
       "      <td>24250.0</td>\n",
       "      <td>{'Smoke': 1, 'HE': 1, 'Flash': 2}</td>\n",
       "      <td>{'Smoke': 3, 'HE': 4, 'Flash': 2, 'Molotov': 1}</td>\n",
       "      <td>0</td>\n",
       "    </tr>\n",
       "    <tr>\n",
       "      <th>103</th>\n",
       "      <td>003201673717864202280_0171883906.dem 5</td>\n",
       "      <td>de_dust2</td>\n",
       "      <td>Team 2</td>\n",
       "      <td>Terrorist</td>\n",
       "      <td>SEMI_ECO</td>\n",
       "      <td>16.0</td>\n",
       "      <td>{'FiveSeven': 1, 'M4A1': 1, 'Deagle': 2}</td>\n",
       "      <td>{'MP7': 1, 'AK47': 2, 'Deagle': 1}</td>\n",
       "      <td>0.500000</td>\n",
       "      <td>0.052632</td>\n",
       "      <td>{'Pistol': 3, 'Rifle': 1}</td>\n",
       "      <td>{'Pistol': 3, 'Rifle': 1}</td>\n",
       "      <td>10700.0</td>\n",
       "      <td>25750.0</td>\n",
       "      <td>{'Smoke': 1, 'Flash': 2, 'HE': 1}</td>\n",
       "      <td>{'Flash': 4, 'Smoke': 2, 'HE': 1}</td>\n",
       "      <td>0</td>\n",
       "    </tr>\n",
       "  </tbody>\n",
       "</table>\n",
       "</div>"
      ],
      "text/plain": [
       "                                   round_id       map winner_team  \\\n",
       "0    003201673717864202280_0171883906.dem 1  de_dust2      Team 1   \n",
       "28   003201673717864202280_0171883906.dem 2  de_dust2      Team 2   \n",
       "54   003201673717864202280_0171883906.dem 3  de_dust2      Team 2   \n",
       "82   003201673717864202280_0171883906.dem 4  de_dust2      Team 2   \n",
       "103  003201673717864202280_0171883906.dem 5  de_dust2      Team 2   \n",
       "\n",
       "          winner_side    round_type  avg_match_rank  \\\n",
       "0    CounterTerrorist  PISTOL_ROUND            16.0   \n",
       "28          Terrorist           ECO            16.0   \n",
       "54          Terrorist           ECO            16.0   \n",
       "82          Terrorist      SEMI_ECO            16.0   \n",
       "103         Terrorist      SEMI_ECO            16.0   \n",
       "\n",
       "                                    Team_1_Weapons  \\\n",
       "0               {'P2000': 1, 'USP': 3, 'Glock': 1}   \n",
       "28   {'UMP': 1, 'Deagle': 2, 'MP9': 1, 'Famas': 1}   \n",
       "54              {'P250': 1, 'Deagle': 2, 'USP': 2}   \n",
       "82                                   {'Deagle': 4}   \n",
       "103       {'FiveSeven': 1, 'M4A1': 1, 'Deagle': 2}   \n",
       "\n",
       "                                        Team_2_Weapons  Team_1_hs_percentage  \\\n",
       "0                                {'Glock': 3, 'HE': 1}              0.200000   \n",
       "28       {'Tec9': 2, 'UMP': 1, 'Deagle': 2, 'P250': 1}              0.222222   \n",
       "54          {'HE': 2, 'UMP': 1, 'Famas': 1, 'AK47': 2}              0.307692   \n",
       "82   {'HE': 2, 'UMP': 1, 'AK47': 2, 'AWP': 1, 'Deag...              0.428571   \n",
       "103                 {'MP7': 1, 'AK47': 2, 'Deagle': 1}              0.500000   \n",
       "\n",
       "     Team_2_hs_percentage                  Team_1_Weapon_Types  \\\n",
       "0                0.250000                        {'Pistol': 4}   \n",
       "28               0.176471  {'SMG': 2, 'Pistol': 2, 'Rifle': 1}   \n",
       "54               0.153846                        {'Pistol': 5}   \n",
       "82               0.090909                        {'Pistol': 4}   \n",
       "103              0.052632            {'Pistol': 3, 'Rifle': 1}   \n",
       "\n",
       "                     Team_1_Weapon_Types  Team_1_Cost  Team_2_Cost  \\\n",
       "0                          {'Pistol': 4}       2950.0       3850.0   \n",
       "28   {'SMG': 2, 'Pistol': 2, 'Rifle': 1}      12400.0       4700.0   \n",
       "54                         {'Pistol': 5}       4700.0      21050.0   \n",
       "82                         {'Pistol': 4}       9200.0      24250.0   \n",
       "103            {'Pistol': 3, 'Rifle': 1}      10700.0      25750.0   \n",
       "\n",
       "                          Team_1_Nades  \\\n",
       "0                                  NaN   \n",
       "28               {'Smoke': 1, 'HE': 1}   \n",
       "54                        {'Flash': 1}   \n",
       "82   {'Smoke': 1, 'HE': 1, 'Flash': 2}   \n",
       "103  {'Smoke': 1, 'Flash': 2, 'HE': 1}   \n",
       "\n",
       "                                        Team_2_Nades  winner_team_1  \n",
       "0                              {'Decoy': 2, 'HE': 1}              1  \n",
       "28                          {'Smoke': 1, 'Flash': 1}              0  \n",
       "54   {'Smoke': 2, 'HE': 3, 'Flash': 3, 'Molotov': 1}              0  \n",
       "82   {'Smoke': 3, 'HE': 4, 'Flash': 2, 'Molotov': 1}              0  \n",
       "103                {'Flash': 4, 'Smoke': 2, 'HE': 1}              0  "
      ]
     },
     "metadata": {},
     "output_type": "display_data"
    }
   ],
   "source": [
    "def dummy_winner(t):\n",
    "    if t == 'Team 1':\n",
    "        return 1\n",
    "    else:\n",
    "        return 0\n",
    "    \n",
    "df_merge['winner_team_1'] = df['winner_team'].map(dummy_winner)\n",
    "\n",
    "display(df_merge.head())"
   ]
  },
  {
   "cell_type": "markdown",
   "metadata": {},
   "source": [
    "### Maps\n",
    "\n",
    "Finally, different maps that players play on might also have an impact on winrate. Since Terrorists and Counter-Terrorists have different objectives, one could reasonably assume that certain maps might favor one side versus the other. For example, the map de_nuke is notorious for being CT-sided. That is, de_nuke winrates are overwhelmingly in favor of Counter-Terrorists because the bombsites are much easier to defend and harder to attack. This data is already in our dataframe so we can leave this alone."
   ]
  },
  {
   "cell_type": "markdown",
   "metadata": {},
   "source": [
    "#  2. Exploratory Data Analysis\n",
    "\n",
    "Now we can look at our data in a little more detail!"
   ]
  },
  {
   "cell_type": "markdown",
   "metadata": {},
   "source": [
    "## 2.1 Maps\n",
    "\n",
    "First we're going to look at the maps that players choose to play on. We'll drop duplicates based on file so that we only have 1 entry per match, and then we'll plot to see map trends. First we'll work with our unprocessed data."
   ]
  },
  {
   "cell_type": "code",
   "execution_count": 549,
   "metadata": {},
   "outputs": [
    {
     "data": {
      "text/plain": [
       "<matplotlib.axes._subplots.AxesSubplot at 0x7f7f8c410df0>"
      ]
     },
     "execution_count": 549,
     "metadata": {},
     "output_type": "execute_result"
    },
    {
     "data": {
      "image/png": "[encoded data removed]",
      "text/plain": [
       "<Figure size 1152x432 with 1 Axes>"
      ]
     },
     "metadata": {
      "needs_background": "light"
     },
     "output_type": "display_data"
    }
   ],
   "source": [
    "map_pref = df_orig.drop_duplicates('file')\n",
    "map_pref = map_pref.groupby(['map']).count().reset_index().sort_values('round_id', ascending=False)\n",
    "plt.figure(figsize=(16,6))\n",
    "sns.barplot(x='map', y='round_id', data=map_pref)"
   ]
  },
  {
   "cell_type": "markdown",
   "metadata": {},
   "source": [
    "Notice here that a lot of the maps have very few observations! This is why we dropped them earlier on when we were processing our data. Plotting our processed data below we see that our sample sizes are much more manageable after processing."
   ]
  },
  {
   "cell_type": "code",
   "execution_count": 550,
   "metadata": {},
   "outputs": [
    {
     "data": {
      "text/plain": [
       "<matplotlib.axes._subplots.AxesSubplot at 0x7f7f8c459820>"
      ]
     },
     "execution_count": 550,
     "metadata": {},
     "output_type": "execute_result"
    },
    {
     "data": {
      "image/png": "[encoded data removed]",
      "text/plain": [
       "<Figure size 1152x432 with 1 Axes>"
      ]
     },
     "metadata": {
      "needs_background": "light"
     },
     "output_type": "display_data"
    }
   ],
   "source": [
    "map_pref = df.drop_duplicates('file')\n",
    "map_pref = map_pref.groupby(['map']).count().reset_index().sort_values('round_id', ascending=False)\n",
    "plt.figure(figsize=(16,6))\n",
    "sns.barplot(x='map', y='round_id', data=map_pref)"
   ]
  },
  {
   "cell_type": "markdown",
   "metadata": {},
   "source": [
    "### Map Imbalance\n",
    "\n",
    "Here we'll look at \"T-sidedness\", or the tendency for a map to be favorable for one side versus another."
   ]
  },
  {
   "cell_type": "code",
   "execution_count": 551,
   "metadata": {},
   "outputs": [
    {
     "data": {
      "text/plain": [
       "<matplotlib.axes._subplots.AxesSubplot at 0x7f7fbc350880>"
      ]
     },
     "execution_count": 551,
     "metadata": {},
     "output_type": "execute_result"
    },
    {
     "data": {
      "image/png": "[encoded data removed]",
      "text/plain": [
       "<Figure size 1152x432 with 1 Axes>"
      ]
     },
     "metadata": {
      "needs_background": "light"
     },
     "output_type": "display_data"
    }
   ],
   "source": [
    "# Calculate the win_rate for Counter-Terrorists\n",
    "def agg_wr(series):\n",
    "    ct_wins = 0\n",
    "    total = 0\n",
    "    for i in series:\n",
    "        if i == 'CounterTerrorist':\n",
    "            ct_wins += 1\n",
    "        total += 1\n",
    "    return ct_wins / total\n",
    "\n",
    "map_skew = df.drop_duplicates('file')\n",
    "map_skew = map_skew.groupby('map').agg({'winner_side': agg_wr}).reset_index()\n",
    "map_skew['winner_side'] = map_skew['winner_side'] - 0.5\n",
    "map_skew.columns = ['Map', 'Win Skew Percentage']\n",
    "\n",
    "plt.figure(figsize=(16,6))\n",
    "sns.barplot(x='Map', y='Win Skew Percentage', data=map_skew)"
   ]
  },
  {
   "cell_type": "markdown",
   "metadata": {},
   "source": [
    "We notice here that most maps are actually pretty balanced! Most of the maps only have a winrate difference of 5% from 50%. Key maps to notice here are de_inferno and de_nuke, where de_inferno is almost 10% in favor of Terrorist wins, while de_nuke is a whole 30% in favor of Counter-Terrorist wins. Of course, this idea should be tempered by the fact that we saw above that de_nuke had a small sample size of less than 20 matches (which could very well be related to the map imbalance). We should also note here that most maps tend to be slightly in favor of Terrorists."
   ]
  },
  {
   "cell_type": "markdown",
   "metadata": {},
   "source": [
    "## 2.2 Guns"
   ]
  },
  {
   "cell_type": "markdown",
   "metadata": {},
   "source": [
    "Before we start looking at guns, we'll want to consider how the distribution of guns can differ in different ranks. Assuming that players in higher ranks are actually better, we can get an idea of guns that \"better\" players use."
   ]
  },
  {
   "cell_type": "markdown",
   "metadata": {},
   "source": [
    "<img src='https://csgosmurfninja.com/wp-content/uploads/2019/12/rank_2018-2-300x225.jpg.webp'>"
   ]
  },
  {
   "cell_type": "markdown",
   "metadata": {},
   "source": [
    "Looking at the progression of ranks above, we can assume that ranks start at 1 for Silver I. Our lowest rank recorded here is 7, and our highest rank recorded here is 16. Using our mapping from before, we assume that our ranks fall between Gold Nova I (7), and Legendary Eagle Master (16)"
   ]
  },
  {
   "cell_type": "code",
   "execution_count": 553,
   "metadata": {},
   "outputs": [
    {
     "data": {
      "text/plain": [
       "array([16., 10., 12., 11., 14., 15.,  9.,  8., 13.,  7.])"
      ]
     },
     "execution_count": 553,
     "metadata": {},
     "output_type": "execute_result"
    }
   ],
   "source": [
    "df['avg_match_rank'].unique()"
   ]
  },
  {
   "cell_type": "markdown",
   "metadata": {},
   "source": [
    "Using some prior knowledge, the majority of players fall in Gold Nova 1 - 4 with a bell curve. To roughly divide our dataset into two skill groups, we'll place Gold Nova 1 - 4 into the 'GN' group, and place the rest into the 'MG' group."
   ]
  },
  {
   "cell_type": "code",
   "execution_count": 556,
   "metadata": {},
   "outputs": [],
   "source": [
    "def tag_rank(rank):\n",
    "    mappings = {\n",
    "        7: 'GN',\n",
    "        8: 'GN',\n",
    "        9: 'GN',\n",
    "        10: 'GN',\n",
    "        11: 'MG',\n",
    "        12: 'MG',\n",
    "        13: 'MG',\n",
    "        14: 'MG',\n",
    "        15: 'MG',\n",
    "        16: 'MG',\n",
    "    }\n",
    "    \n",
    "    return mappings[rank]"
   ]
  },
  {
   "cell_type": "markdown",
   "metadata": {},
   "source": [
    "For our distribution here, we also don't really care about which team the weapons belong to, so we'll combine them together."
   ]
  },
  {
   "cell_type": "code",
   "execution_count": 558,
   "metadata": {},
   "outputs": [
    {
     "data": {
      "text/html": [
       "<div>\n",
       "<style scoped>\n",
       "    .dataframe tbody tr th:only-of-type {\n",
       "        vertical-align: middle;\n",
       "    }\n",
       "\n",
       "    .dataframe tbody tr th {\n",
       "        vertical-align: top;\n",
       "    }\n",
       "\n",
       "    .dataframe thead th {\n",
       "        text-align: right;\n",
       "    }\n",
       "</style>\n",
       "<table border=\"1\" class=\"dataframe\">\n",
       "  <thead>\n",
       "    <tr style=\"text-align: right;\">\n",
       "      <th></th>\n",
       "      <th>Weapons</th>\n",
       "    </tr>\n",
       "    <tr>\n",
       "      <th>rank_tag</th>\n",
       "      <th></th>\n",
       "    </tr>\n",
       "  </thead>\n",
       "  <tbody>\n",
       "    <tr>\n",
       "      <th>GN</th>\n",
       "      <td>{'P2000': 1193, 'USP': 7582, 'Tec9': 1675, 'Gl...</td>\n",
       "    </tr>\n",
       "    <tr>\n",
       "      <th>MG</th>\n",
       "      <td>{'P2000': 1548, 'USP': 8226, 'Glock': 6623, 'H...</td>\n",
       "    </tr>\n",
       "  </tbody>\n",
       "</table>\n",
       "</div>"
      ],
      "text/plain": [
       "                                                    Weapons\n",
       "rank_tag                                                   \n",
       "GN        {'P2000': 1193, 'USP': 7582, 'Tec9': 1675, 'Gl...\n",
       "MG        {'P2000': 1548, 'USP': 8226, 'Glock': 6623, 'H..."
      ]
     },
     "metadata": {},
     "output_type": "display_data"
    }
   ],
   "source": [
    "def weapon_sum(series):\n",
    "    count = Counter()\n",
    "    for i in series:\n",
    "        if isinstance(i, Counter):\n",
    "            count += i\n",
    "    return count\n",
    "\n",
    "df_wpdist = df_merge\n",
    "df_wpdist['rank_tag'] = df_wpdist['avg_match_rank'].map(tag_rank)\n",
    "df_wpdist['Weapons'] = df_wpdist['Team_1_Weapons'] + df_wpdist['Team_2_Weapons']\n",
    "\n",
    "df_wpdist = df_wpdist.groupby('rank_tag').agg({'Weapons': weapon_sum})\n",
    "display(df_wpdist.head())"
   ]
  },
  {
   "cell_type": "markdown",
   "metadata": {},
   "source": [
    "Notice that we now have two dictionaries, one for each skill group, that represents our counts for weapons. Here, we convert them into dataframes that we can use to plot the data, and also tag the weapons into different groups so that we can separate them later."
   ]
  },
  {
   "cell_type": "code",
   "execution_count": 559,
   "metadata": {
    "scrolled": false
   },
   "outputs": [],
   "source": [
    "gn_wpdist = pd.DataFrame.from_dict(df_wpdist['Weapons'][0], orient='index').reset_index()\n",
    "gn_wpdist.columns = ['Weapons', 'Count']\n",
    "gn_wpdist = gn_wpdist.sort_values('Count', ascending=False)\n",
    "\n",
    "mg_wpdist = pd.DataFrame.from_dict(df_wpdist['Weapons'][1], orient='index').reset_index()\n",
    "mg_wpdist.columns = ['Weapons', 'Count']\n",
    "mg_wpdist = mg_wpdist.sort_values('Count', ascending=False)\n",
    "\n",
    "pistol_list = ['P2000', 'USP', 'Tec9', 'Glock', 'P250', 'CZ', 'DualBarettas']\n",
    "smg_list = ['MP9', 'UMP', 'Bizon', 'MP7', 'P90', 'Mac10']\n",
    "shotgun_list = ['XM1014', 'Nova', 'Swag7', 'SawedOff']\n",
    "lmg_list = ['M249', 'Negev']\n",
    "rifle_list = ['M4A1', 'M4A4', 'AK47', 'AUG', 'Gallil', 'SG556', 'Famas']\n",
    "sniper_list = ['AWP', 'Scout', 'G3SG1', 'Scar20']\n",
    "\n",
    "def weapon_tag(s):\n",
    "    if s in pistol_list:\n",
    "        return 'pistol'\n",
    "    elif s in smg_list:\n",
    "        return 'smg'\n",
    "    elif s in shotgun_list:\n",
    "        return 'shotgun'\n",
    "    elif s in lmg_list:\n",
    "        return 'lmg'\n",
    "    elif s in rifle_list:\n",
    "        return 'rifle'\n",
    "    elif s in sniper_list:\n",
    "        return 'sniper'\n",
    "    else:\n",
    "        return 'other'\n",
    "        \n",
    "gn_wpdist['Weapon_Tag'] = gn_wpdist['Weapons'].apply(weapon_tag)\n",
    "mg_wpdist['Weapon_Tag'] = mg_wpdist['Weapons'].apply(weapon_tag)"
   ]
  },
  {
   "cell_type": "markdown",
   "metadata": {},
   "source": [
    "Now we can plot our data! Here we're going to separate it so that for each group of weapons, the Gold Nova or GN skill group is plotted on the left and the higher \"Master Guardian\" or MG group is plotted on the left."
   ]
  },
  {
   "cell_type": "code",
   "execution_count": 560,
   "metadata": {
    "scrolled": false
   },
   "outputs": [
    {
     "data": {
      "image/png": "[encoded data removed]",
      "text/plain": [
       "<Figure size 1152x432 with 2 Axes>"
      ]
     },
     "metadata": {
      "needs_background": "light"
     },
     "output_type": "display_data"
    },
    {
     "data": {
      "image/png": "[encoded data removed]",
      "text/plain": [
       "<Figure size 1152x432 with 2 Axes>"
      ]
     },
     "metadata": {
      "needs_background": "light"
     },
     "output_type": "display_data"
    },
    {
     "data": {
      "image/png": "[encoded data removed]",
      "text/plain": [
       "<Figure size 1152x432 with 2 Axes>"
      ]
     },
     "metadata": {
      "needs_background": "light"
     },
     "output_type": "display_data"
    },
    {
     "data": {
      "image/png": "[encoded data removed]",
      "text/plain": [
       "<Figure size 1152x432 with 2 Axes>"
      ]
     },
     "metadata": {
      "needs_background": "light"
     },
     "output_type": "display_data"
    },
    {
     "data": {
      "image/png": "[encoded data removed]",
      "text/plain": [
       "<Figure size 1152x432 with 2 Axes>"
      ]
     },
     "metadata": {
      "needs_background": "light"
     },
     "output_type": "display_data"
    },
    {
     "data": {
      "image/png": "[encoded data removed]",
      "text/plain": [
       "<Figure size 1152x432 with 2 Axes>"
      ]
     },
     "metadata": {
      "needs_background": "light"
     },
     "output_type": "display_data"
    }
   ],
   "source": [
    "typelist = ['pistol', 'smg', 'shotgun', 'lmg', 'rifle', 'sniper']\n",
    "\n",
    "for wp_type in typelist:\n",
    "    fig, axs = plt.subplots(1, 2, figsize=(16,6))\n",
    "    #plt.figure(figsize=(16,6))\n",
    "    sns.barplot(x='Weapons', y='Count', data=gn_wpdist[gn_wpdist['Weapon_Tag'] == wp_type], ax=axs[0])\n",
    "    axs[0].set_title('Gold Nova ' + wp_type)\n",
    "    \n",
    "    sns.barplot(x='Weapons', y='Count', data=mg_wpdist[mg_wpdist['Weapon_Tag'] == wp_type], ax=axs[1])\n",
    "    axs[1].set_title('Master Guardian ' + wp_type)"
   ]
  },
  {
   "cell_type": "markdown",
   "metadata": {},
   "source": [
    "An interesting difference between the skill levels to point out here is for shotguns. While the most popular shotgun for Gold Nova players is the XM1014, the most popular shotgun for MG players is the MAG7 (aka Swag7). The XM1014 is known for being a notoriously \"noob-friendly\" gun, so its decline in upper skill levels is telling here.\n",
    "\n",
    "In terms of general trends, we notice that the most favored pistol is the USP, the most favored SMG is the UMP, the most favored rifle is the AK47, and the most favored sniper is the AWP. One could reasonably infer here that the most popular guns are chosen for being the best in their class, so choosing these top picks would be the best choices."
   ]
  },
  {
   "cell_type": "markdown",
   "metadata": {},
   "source": [
    "## 2.3 Grenades\n",
    "\n",
    "Now we're going to look at the distribution of grenades used by round and how it affects winrate. \n",
    "\n",
    "First we'll strip the team labelings and turn them into dataframes so that we can directly map the number of nades thrown to a dummy variable indicating whether or not the round was a win."
   ]
  },
  {
   "cell_type": "code",
   "execution_count": 569,
   "metadata": {},
   "outputs": [],
   "source": [
    "#plt.figure(figsize=(16,6))\n",
    "#sns.barplot(x='Map', y='Win Skew Percentage', data=df_merge)\n",
    "\n",
    "def count_nades(c):\n",
    "    if isinstance(c, Counter):\n",
    "        return sum(c.values())\n",
    "    else:\n",
    "        return 0\n",
    "\n",
    "nades = pd.DataFrame()\n",
    "\n",
    "nades['nade_count'] = pd.concat([ \\\n",
    "                                 df_merge['Team_1_Nades'].map(count_nades), \\\n",
    "                                 df_merge['Team_2_Nades'].map(count_nades)\n",
    "                                ])\n",
    "\n",
    "nades['win'] = pd.concat([ \\\n",
    "                          df_merge['winner_team_1'], \\\n",
    "                          df_merge['winner_team_1'].map(lambda x: 0 if x == 1 else 1) \\\n",
    "                         ])\n"
   ]
  },
  {
   "cell_type": "markdown",
   "metadata": {},
   "source": [
    "Here we notice that most teams throw less than 5 grenades, while the frequency of grenade count significantly tapers off as it increases."
   ]
  },
  {
   "cell_type": "code",
   "execution_count": 447,
   "metadata": {},
   "outputs": [
    {
     "data": {
      "text/plain": [
       "<matplotlib.axes._subplots.AxesSubplot at 0x7f7fb2e61ee0>"
      ]
     },
     "execution_count": 447,
     "metadata": {},
     "output_type": "execute_result"
    },
    {
     "data": {
      "image/png": "[encoded data removed]",
      "text/plain": [
       "<Figure size 1152x432 with 1 Axes>"
      ]
     },
     "metadata": {
      "needs_background": "light"
     },
     "output_type": "display_data"
    }
   ],
   "source": [
    "nade_count = nades.groupby('nade_count').count().reset_index()\n",
    "\n",
    "plt.figure(figsize=(16,6))\n",
    "sns.barplot(x='nade_count', y='win', data=nade_count)"
   ]
  },
  {
   "cell_type": "markdown",
   "metadata": {},
   "source": [
    "Looking at the distribution here, we notice the conclusion we expected earlier here. Almost all rounds where the team threw more than 5 grenades have winrates over 50%. Most notably, teams that throw 0 grenades have a shockingly bad mean winrate of less than 30%. This suggests that better teams tend to throw more grenades, which correlates with higher winrates. Of course, incresing winrate by throwing grenades should be within reason, since just randomly throwing grenades does not lead to a higher chance of winning (correlation is not causation!)."
   ]
  },
  {
   "cell_type": "code",
   "execution_count": 561,
   "metadata": {},
   "outputs": [
    {
     "data": {
      "text/plain": [
       "<matplotlib.lines.Line2D at 0x7f7fb1f2a0d0>"
      ]
     },
     "execution_count": 561,
     "metadata": {},
     "output_type": "execute_result"
    },
    {
     "data": {
      "image/png": "[encoded data removed]",
      "text/plain": [
       "<Figure size 1152x432 with 1 Axes>"
      ]
     },
     "metadata": {
      "needs_background": "light"
     },
     "output_type": "display_data"
    }
   ],
   "source": [
    "nade_wr = nades.groupby('nade_count').mean().reset_index()\n",
    "\n",
    "plt.figure(figsize=(16,6))\n",
    "ax = sns.barplot(x='nade_count', y='win', data=nade_wr)\n",
    "ax.axhline(0.5, linestyle='--')"
   ]
  },
  {
   "cell_type": "markdown",
   "metadata": {},
   "source": [
    "## 2.4 Equipment Value\n",
    "\n",
    "Again, we'll look at the distribution of the equipment value for teams and how it affects winrates. Here we notice that distribution of equipment value is bimodal, with most teams either having the stock equipment value, or full buying a complete loadout."
   ]
  },
  {
   "cell_type": "code",
   "execution_count": 562,
   "metadata": {
    "scrolled": false
   },
   "outputs": [
    {
     "data": {
      "text/plain": [
       "<matplotlib.axes._subplots.AxesSubplot at 0x7f7f8e81fbe0>"
      ]
     },
     "execution_count": 562,
     "metadata": {},
     "output_type": "execute_result"
    },
    {
     "data": {
      "image/png": "[encoded data removed]",
      "text/plain": [
       "<Figure size 1152x432 with 1 Axes>"
      ]
     },
     "metadata": {
      "needs_background": "light"
     },
     "output_type": "display_data"
    }
   ],
   "source": [
    "evalue = pd.DataFrame()\n",
    "\n",
    "evalue['equipment_value'] = pd.concat([ \\\n",
    "                                 df_merge['Team_1_Cost'], \\\n",
    "                                 df_merge['Team_2_Cost']\n",
    "                                ])\n",
    "\n",
    "evalue['win'] = pd.concat([ \\\n",
    "                          df_merge['winner_team_1'], \\\n",
    "                          df_merge['winner_team_1'].map(lambda x: 0 if x == 1 else 1) \\\n",
    "                         ])\n",
    "\n",
    "plt.figure(figsize=(16,6))\n",
    "sns.violinplot(x='equipment_value', data=evalue)"
   ]
  },
  {
   "cell_type": "markdown",
   "metadata": {},
   "source": [
    "As expected from our exposition, lower equipment values does correlate to worse winrates. More importantly, we notice that the win_rate for teams that don't commit to full saving (i.e. not everyone saves all their money by not buying anything) is actually worse than teams that save all their money. It isn't until the loadout value indicates that at least most of the team can buy full loadouts that we see the winrate go over 50%.\n",
    "\n",
    "This tells us something that people have long been trying to say: it is better to save all your money for a full loadout later, than to constantly waste your money and never have enough."
   ]
  },
  {
   "cell_type": "code",
   "execution_count": 564,
   "metadata": {},
   "outputs": [
    {
     "data": {
      "text/plain": [
       "<matplotlib.lines.Line2D at 0x7f7f8e6fc970>"
      ]
     },
     "execution_count": 564,
     "metadata": {},
     "output_type": "execute_result"
    },
    {
     "data": {
      "image/png": "[encoded data removed]",
      "text/plain": [
       "<Figure size 1152x432 with 1 Axes>"
      ]
     },
     "metadata": {
      "needs_background": "light"
     },
     "output_type": "display_data"
    }
   ],
   "source": [
    "evalue['bin'] = pd.cut(x=evalue['equipment_value'], bins=10)\n",
    "equip_wr = evalue.groupby('bin').mean().reset_index()\n",
    "\n",
    "plt.figure(figsize=(16,6))\n",
    "ax = sns.barplot(x='bin', y='win', data=equip_wr)\n",
    "ax.axhline(0.5, linestyle='--')"
   ]
  },
  {
   "cell_type": "markdown",
   "metadata": {},
   "source": [
    "## 2.5 Headshot Percentage\n",
    "\n",
    "Finally we'll look at headshot percentage. We'll be using the same method as we used above for equipment value above. Here we notice in our violin plot that the distribution is bimodal, with most teams having either a 0% headshot percentage, or a headshot percentage around 10-20%."
   ]
  },
  {
   "cell_type": "code",
   "execution_count": 565,
   "metadata": {
    "scrolled": false
   },
   "outputs": [
    {
     "data": {
      "text/plain": [
       "<matplotlib.axes._subplots.AxesSubplot at 0x7f7f8e81fc40>"
      ]
     },
     "execution_count": 565,
     "metadata": {},
     "output_type": "execute_result"
    },
    {
     "data": {
      "image/png": "[encoded data removed]",
      "text/plain": [
       "<Figure size 1152x432 with 1 Axes>"
      ]
     },
     "metadata": {
      "needs_background": "light"
     },
     "output_type": "display_data"
    }
   ],
   "source": [
    "headshots = pd.DataFrame()\n",
    "\n",
    "headshots['hs_percentage'] = pd.concat([ \\\n",
    "                                 df_merge['Team_1_hs_percentage'], \\\n",
    "                                 df_merge['Team_2_hs_percentage']\n",
    "                                ])\n",
    "\n",
    "headshots['win'] = pd.concat([ \\\n",
    "                          df_merge['winner_team_1'], \\\n",
    "                          df_merge['winner_team_1'].map(lambda x: 0 if x == 1 else 1) \\\n",
    "                         ])\n",
    "\n",
    "plt.figure(figsize=(16,6))\n",
    "sns.violinplot(x='hs_percentage', data=headshots)"
   ]
  },
  {
   "cell_type": "markdown",
   "metadata": {},
   "source": [
    "Looking at our winrates here we notice something surprising. There doesn't actually seem to be any significant correlation between headshot percentage and winrate. Other than teams with a 0% headshot percentage having a supbar average winrate of 45%, most winrate averages don't differ from 50% too significantly. We can also discount the bins past 50% given the small sample sizes for those figures.\n",
    "\n",
    "As a result, our data here actually seems to suggest that mechanical skill does not contribute significantly to winrate. A team only has to be \"good enough\" in order to have a chance at winning.\n",
    "\n",
    "It's important to note here that 0% has a higher proportion of rounds most likely because it also includes rounds in which no one on the team hits anyone. This would decrease our winrate percentage (although in those cases, teams that fail to connect all their shots probably should have low winrate percentages...)"
   ]
  },
  {
   "cell_type": "code",
   "execution_count": 567,
   "metadata": {},
   "outputs": [
    {
     "data": {
      "text/plain": [
       "<matplotlib.lines.Line2D at 0x7f7f60b49ac0>"
      ]
     },
     "execution_count": 567,
     "metadata": {},
     "output_type": "execute_result"
    },
    {
     "data": {
      "image/png": "[encoded data removed]",
      "text/plain": [
       "<Figure size 1152x432 with 1 Axes>"
      ]
     },
     "metadata": {
      "needs_background": "light"
     },
     "output_type": "display_data"
    }
   ],
   "source": [
    "headshots['bin'] = pd.cut(x=headshots['hs_percentage'], bins=10)\n",
    "head_wr = headshots.groupby('bin').mean().reset_index()\n",
    "\n",
    "plt.figure(figsize=(16,6))\n",
    "ax = sns.barplot(x='bin', y='win', data=head_wr)\n",
    "ax.axhline(0.5, linestyle='--')"
   ]
  },
  {
   "cell_type": "markdown",
   "metadata": {},
   "source": [
    "# 3. Analysis"
   ]
  },
  {
   "cell_type": "markdown",
   "metadata": {},
   "source": [
    "Finally, here we'll build a classification model to hopefully try and predict whether or not a team will win based on the features we just looked at. The two models that we'll be focusing on here are Logistic Regressions and Classification Trees.\n",
    "\n",
    "We'll then evaluate our models to see if they actually can predict wins, and see which one does better."
   ]
  },
  {
   "cell_type": "markdown",
   "metadata": {},
   "source": [
    "## 3.1 Model Building"
   ]
  },
  {
   "cell_type": "markdown",
   "metadata": {},
   "source": [
    "First, we're going to merge our data one last time so that we can feed it into our models. We'll do something similar to what we did in our EDA so that each row will correspond to one team in one round, with the corresponding dependent variable in the row being a dummy variable indicating whether or not the team won."
   ]
  },
  {
   "cell_type": "code",
   "execution_count": 570,
   "metadata": {},
   "outputs": [],
   "source": [
    "X = pd.DataFrame()\n",
    "\n",
    "X['nade_count'] = pd.concat([ \\\n",
    "                                 df_merge['Team_1_Nades'].map(count_nades), \\\n",
    "                                 df_merge['Team_2_Nades'].map(count_nades)\n",
    "                                ])\n",
    "\n",
    "X['equipment_value'] = pd.concat([ \\\n",
    "                                 df_merge['Team_1_Cost'], \\\n",
    "                                 df_merge['Team_2_Cost']\n",
    "                                ])\n",
    "\n",
    "X['hs_percentage'] = pd.concat([ \\\n",
    "                                 df_merge['Team_1_hs_percentage'], \\\n",
    "                                 df_merge['Team_2_hs_percentage']\n",
    "                                ])\n",
    "\n",
    "def team_1_side(row):\n",
    "    if row['winner_team'] == 'Team 1':\n",
    "        if row['winner_side'] == 'CounterTerrorist':\n",
    "            return 1\n",
    "        else:\n",
    "            return 0\n",
    "    else:\n",
    "        if row['winner_side'] == 'CounterTerrorist':\n",
    "            return 0\n",
    "        else:\n",
    "            return 1\n",
    "        \n",
    "temp = df_merge.apply(team_1_side, axis=1)\n",
    "\n",
    "X['is_ct'] = pd.concat([ \\\n",
    "                         temp, \\\n",
    "                         temp.map(lambda x: 0 if x == 1 else 1) \\\n",
    "])\n",
    "\n",
    "Y = pd.concat([ \\\n",
    "                          df_merge['winner_team_1'], \\\n",
    "                          df_merge['winner_team_1'].map(lambda x: 0 if x == 1 else 1) \\\n",
    "                         ])"
   ]
  },
  {
   "cell_type": "markdown",
   "metadata": {},
   "source": [
    "Knowing how we found the equipment value and headshot percentage, we know that the missing entries correspond to entries where they couldn't be found because they were missing. As a result, we can just fill these in with 0 since that would be the default value in the game."
   ]
  },
  {
   "cell_type": "code",
   "execution_count": 571,
   "metadata": {},
   "outputs": [
    {
     "name": "stdout",
     "output_type": "stream",
     "text": [
      "<class 'pandas.core.frame.DataFrame'>\n",
      "Int64Index: 63790 entries, 0 to 955439\n",
      "Data columns (total 4 columns):\n",
      " #   Column           Non-Null Count  Dtype  \n",
      "---  ------           --------------  -----  \n",
      " 0   nade_count       63790 non-null  int64  \n",
      " 1   equipment_value  62956 non-null  float64\n",
      " 2   hs_percentage    62956 non-null  float64\n",
      " 3   is_ct            63790 non-null  int64  \n",
      "dtypes: float64(2), int64(2)\n",
      "memory usage: 2.4 MB\n"
     ]
    },
    {
     "data": {
      "text/plain": [
       "None"
      ]
     },
     "metadata": {},
     "output_type": "display_data"
    }
   ],
   "source": [
    "display(X.info())\n",
    "X = X.fillna(0)"
   ]
  },
  {
   "cell_type": "markdown",
   "metadata": {},
   "source": [
    "### Logistic Regression\n",
    "\n",
    "Finally we can start building models! First we split our dataset into a training and test set so that our test set is 20% of our total data. Then we run our LogisticRegression, which will fit coefficients to a Logistic model. For more information on how sklearn does Logistic regression, see here: https://scikit-learn.org/stable/modules/generated/sklearn.linear_model.LogisticRegression.html"
   ]
  },
  {
   "cell_type": "code",
   "execution_count": 495,
   "metadata": {},
   "outputs": [
    {
     "data": {
      "text/plain": [
       "0.49192663426869415"
      ]
     },
     "execution_count": 495,
     "metadata": {},
     "output_type": "execute_result"
    }
   ],
   "source": [
    "X_train, X_test, Y_train, Y_test = train_test_split(X, Y, test_size=0.2)\n",
    "\n",
    "clf = LogisticRegression(random_state=0)\n",
    "clf.fit(X_train, Y_train)\n",
    "Y_pred = clf.predict(X_test)\n",
    "\n",
    "mean_squared_error(Y_pred, Y_test)"
   ]
  },
  {
   "cell_type": "markdown",
   "metadata": {},
   "source": [
    "Notice here that our MSE is 0.492.... This is not very different from 0.5 so we can probably assume that this isn't much better than randomly guessing."
   ]
  },
  {
   "cell_type": "markdown",
   "metadata": {},
   "source": [
    "### Decision Tree\n",
    "\n",
    "Next we'll build our decision tree. When building this model, splits will be fit to our data so that it can try to predict wins from our data. For more information on how sklearn implements decision trees, see here: https://scikit-learn.org/stable/modules/generated/sklearn.tree.DecisionTreeClassifier.html.\n",
    "\n",
    "For more information on how to best tune the hyperparameters of a sklearn decision tree, see here:\n",
    "https://towardsdatascience.com/how-to-tune-a-decision-tree-f03721801680\n",
    "\n",
    "Note that here we left most of the hyperparameters at the default, except for the splitting algorithm and the maximum depth. The splitting algorithm was set to random in order to mitigate overfitting and the max_depth was set to 300 also to reduce overfitting."
   ]
  },
  {
   "cell_type": "code",
   "execution_count": 572,
   "metadata": {},
   "outputs": [
    {
     "data": {
      "text/plain": [
       "0.3920677222135131"
      ]
     },
     "execution_count": 572,
     "metadata": {},
     "output_type": "execute_result"
    }
   ],
   "source": [
    "clf = DecisionTreeClassifier(splitter=\"random\", max_depth=300)\n",
    "clf.fit(X_train, Y_train)\n",
    "Y_pred = clf.predict(X_test)\n",
    "\n",
    "mean_squared_error(Y_pred, Y_test)"
   ]
  },
  {
   "cell_type": "markdown",
   "metadata": {},
   "source": [
    "Our MSE with a decision tree is now 0.392! While this is nowhere near a perfect accuracy of 0, we can reasonably guess that our model is slightly better than randomly guessing. We'll try to prove this hypothesis using cross-validation and T-Testing. Of course, this is still better than Logistic Regression. We can reasonably assume that this might be the case because of interactions between our variables. For example, not using grenades may not be as big of a deal when playing as Counter-Terrorists compared to when playing as Terrorists. A Logistic Regression would have trouble modeling this kind of relationship since it is a straight-forward equation that assumes the variables are independent, while a Decision Tree might be able to capture this based on the splits made."
   ]
  },
  {
   "cell_type": "markdown",
   "metadata": {},
   "source": [
    "### Cross-Validation / Evaluation\n",
    "\n",
    "Finally here we will evaluate our models using 10-fold cross-validation. We'll be using the KFold function from sklearn which you can read more about here: https://scikit-learn.org/stable/modules/generated/sklearn.model_selection.KFold.html.\n",
    "\n",
    "Again, the error metric that we will be using here is Mean Squared Error (MSE)."
   ]
  },
  {
   "cell_type": "code",
   "execution_count": 581,
   "metadata": {},
   "outputs": [],
   "source": [
    "LogisticRegressionErrors = np.array([])\n",
    "DecisionTreeErrors = np.array([])\n",
    "DummyErrors = np.array([])\n",
    "\n",
    "kf = KFold(n_splits=10)\n",
    "for train, test in kf.split(X):\n",
    "    X_train = X.iloc[train]\n",
    "    X_test = X.iloc[test]\n",
    "    \n",
    "    Y_train = Y.iloc[train]\n",
    "    Y_test = Y.iloc[test]\n",
    "    \n",
    "    clf = LogisticRegression(random_state=0)\n",
    "    clf.fit(X_train, Y_train)\n",
    "    Y_pred = clf.predict(X_test)\n",
    "\n",
    "    LRErr = mean_squared_error(Y_pred, Y_test)\n",
    "\n",
    "    clf = DecisionTreeClassifier(splitter=\"random\", max_depth=300)\n",
    "    clf.fit(X_train, Y_train)\n",
    "    Y_pred = clf.predict(X_test)\n",
    "\n",
    "    DTCErr = mean_squared_error(Y_pred, Y_test)\n",
    "    \n",
    "    clf = DummyClassifier(strategy='uniform').fit(X_train, Y_train)\n",
    "    Y_pred = clf.predict(X_test)\n",
    "    \n",
    "    DErr = mean_squared_error(Y_pred, Y_test)\n",
    "    \n",
    "    DummyErrors = np.append(DummyErrors, DErr)\n",
    "    \n",
    "    LogisticRegressionErrors = np.append(LogisticRegressionErrors, LRErr)\n",
    "    DecisionTreeErrors = np.append(DecisionTreeErrors, DTCErr)"
   ]
  },
  {
   "cell_type": "code",
   "execution_count": 584,
   "metadata": {},
   "outputs": [
    {
     "name": "stdout",
     "output_type": "stream",
     "text": [
      "Logistic Regression: Error Mean:  0.4956889794638658  standard error:  0.0037448135074024513 \n",
      "\n",
      "Decision Tree Classifier: Error Mean:  0.3943094528923029  standard error:  0.0028655502036011296 \n",
      "\n",
      "Logistic Regression vs Decision Tree Classifier T-Test: \n",
      "   Ttest_relResult(statistic=21.79611113467614, pvalue=4.247292255033302e-09) \n",
      "\n",
      "Logistic Regression T-Test: \n",
      "   Ttest_relResult(statistic=-0.6490466583785744, pvalue=0.5325192574292951) \n",
      "\n",
      "Decision Tree Classifier T-Test: \n",
      "   Ttest_relResult(statistic=-26.926555453603903, pvalue=6.506143057934557e-10) \n",
      "\n"
     ]
    }
   ],
   "source": [
    "print(\"Logistic Regression: Error Mean: \", LogisticRegressionErrors.mean(), \" standard error: \", stats.sem(LogisticRegressionErrors), \"\\n\")\n",
    "print(\"Decision Tree Classifier: Error Mean: \", DecisionTreeErrors.mean(), \" standard error: \", stats.sem(DecisionTreeErrors), \"\\n\")\n",
    "\n",
    "print(\"Logistic Regression vs Decision Tree Classifier T-Test: \\n  \", stats.ttest_rel(LogisticRegressionErrors, DecisionTreeErrors), \"\\n\")\n",
    "\n",
    "print(\"Logistic Regression T-Test: \\n  \", stats.ttest_rel(LogisticRegressionErrors, DummyErrors), \"\\n\")\n",
    "print(\"Decision Tree Classifier T-Test: \\n  \", stats.ttest_rel(DecisionTreeErrors, DummyErrors), \"\\n\")"
   ]
  },
  {
   "cell_type": "markdown",
   "metadata": {},
   "source": [
    "Looking at our statistics above, we can fully confirm that our decision tree classifier is better than our logistic regression. Not only is the error mean lower for our decision tree, but also given that our null hypothesis is that the Logistic Regression Error = Decision Tree Error, and our alternative hypothesis is that the Logistic Regression Error > Decision Tree Error, our t-test has a p-value much lower than a standard significance level of 0.05, which suggests that we can reject the null hypothesis here.\n",
    "\n",
    "Additionally, if we compare our results to what we would expect from a model that randomly guesses (which we approximate here by using a dummy classifier from sklearn that randomly guesses uniformly 50/50), we find that our logistic regression is not statistically significant in difference from a model that simply randomly guesses because of the high p-value (above 0.05), thus it doesn't actually do better than randomly guessing. \n",
    "\n",
    "On the other hand, the p-value for our Decision Tree Classifier is low enough (below 0.05 and even 0.01), that we can reject the null hypothesis that it is equivalent to randomly guessing, and state that it is actually better than randomly guessing.\n",
    "\n",
    "To read more about the dummy classifier we used here, see here: https://scikit-learn.org/stable/modules/generated/sklearn.dummy.DummyClassifier.html"
   ]
  },
  {
   "cell_type": "markdown",
   "metadata": {},
   "source": [
    "# 4. Conclusion\n",
    "\n",
    "Looking at the analysis we've done, we've found that it's pretty clear that trying to use weapon choice, map selection, grenade count, equipment value, and headshot percentage is almost inconclusive. While we've found that certain choices can give a team a slight edge in winning rounds, there is no surefire way for a team to be guaranteed to win. This is further reinforced by our model, which only had a MSE of around 0.39 at best for the Decision Tree. This suggests that trying to use the variables we did to predict wins only have a slight effect on the chance to win, which is related to the idea that using these factors can only tip the round in your favor, but not win you the round.\n",
    "\n",
    "This suggests that there are intangibles at play here that can affect winrate and other variables that we may not be looking at. One thing that can be looked at in the future is positioning, another important component to CS:GO games. Finding a way to turn positioning into a usable metric could improve our model.\n",
    "\n",
    "However, assuming that adding more variables won't make our model significantly better, we can conclude here that CS:GO does not have any significant gimmicks that could completely swing a game in your favor. This should help comfort anyone who thinks CS:GO is an unfair game!\n",
    "\n",
    "In summary, if you want to have that edge in winning matches: don't waste your money when you need to save, pick an AK-47 or a USP, don't play on de_nuke, train your aim so that's good enough, and practice your smoke grenades on your favorite maps (or at least use them!).\n",
    "\n",
    "Hopefully this analysis helped give some insight into the metagame strategies of CS:GO, and some ideas on improving your chance to win. There's still more interesting work to be done like heatmaps for positioning, but hopefully this was a good start into the world of CS:GO!\n",
    "\n",
    "I hope this was an interesting an educational tutorial, and should you choose to play CS:GO, improve your win rate as well!"
   ]
  }
 ],
 "metadata": {
  "kernelspec": {
   "display_name": "Python 3",
   "language": "python",
   "name": "python3"
  },
  "language_info": {
   "codemirror_mode": {
    "name": "ipython",
    "version": 3
   },
   "file_extension": ".py",
   "mimetype": "text/x-python",
   "name": "python",
   "nbconvert_exporter": "python",
   "pygments_lexer": "ipython3",
   "version": "3.8.5"
  }
 },
 "nbformat": 4,
 "nbformat_minor": 4
}
